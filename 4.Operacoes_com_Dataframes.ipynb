{
 "cells": [
  {
   "cell_type": "markdown",
   "id": "a998134d",
   "metadata": {},
   "source": [
    "# <font color='blue'>Capítulo 3 - Manipulação de Dados em Python com Pandas</font>"
   ]
  },
  {
   "cell_type": "markdown",
   "id": "fedcb227",
   "metadata": {},
   "source": [
    "#### Importando o pacote Pandas"
   ]
  },
  {
   "cell_type": "code",
   "execution_count": 1,
   "id": "883ab198",
   "metadata": {},
   "outputs": [],
   "source": [
    "# Importando o módulo Pandas\n",
    "import pandas as pd"
   ]
  },
  {
   "cell_type": "markdown",
   "id": "0f0bb44b",
   "metadata": {},
   "source": [
    "## <strong> Operações com Dataframes </strong>"
   ]
  },
  {
   "cell_type": "markdown",
   "id": "b3cf87d0",
   "metadata": {},
   "source": [
    "## Parte 1"
   ]
  },
  {
   "cell_type": "code",
   "execution_count": 2,
   "id": "2de70937",
   "metadata": {},
   "outputs": [],
   "source": [
    "# Cria um dicionário com pares de chave e valor\n",
    "stock = {'AMZN': pd.Series([346.15,0.59,459,0.52,589.8,158.88],\n",
    "                           index = ['Closing price', 'EPS', 'Shares Outstanding(M)', 'Beta', 'P/E', 'Market Cap(B)']),\n",
    "         'GOOG': pd.Series([1133.43,36.05,335.83,0.87,31.44,380.64],\n",
    "                           index = ['Closing price', 'EPS', 'Shares Outstanding(M)', 'Beta', 'P/E', 'Market Cap(B)']),\n",
    "         'FB': pd.Series([61.48,0.59,2450,104.93,150.92],\n",
    "                         index = ['Closing price', 'EPS',' Shares Outstanding(M)', 'P/E', 'Market Cap(B)']),\n",
    "         'YHOO': pd.Series([34.90,1.27,1010,27.48,0.66,35.36], \n",
    "                           index = ['Closing price', 'EPS', 'Shares Outstanding(M)', 'P/E', 'Beta', 'Market Cap(B)']),\n",
    "         'TWTR':pd.Series([65.25,-0.3,555.2,36.23],\n",
    "                          index = ['Closing price', 'EPS', 'Shares Outstanding(M)', 'Market Cap(B)']),\n",
    "         'AAPL':pd.Series([501.53,40.32,892.45,12.44,447.59,0.84],\n",
    "                          index = ['Closing price', 'EPS', 'Shares Outstanding(M)', 'P/E', 'Market Cap(B)', 'Beta'])}"
   ]
  },
  {
   "cell_type": "code",
   "execution_count": 3,
   "id": "1682150f",
   "metadata": {},
   "outputs": [
    {
     "data": {
      "text/plain": [
       "dict"
      ]
     },
     "execution_count": 3,
     "metadata": {},
     "output_type": "execute_result"
    }
   ],
   "source": [
    "# Verifica o Tipo do objeto\n",
    "type(stock)"
   ]
  },
  {
   "cell_type": "code",
   "execution_count": 4,
   "id": "62b9adb1",
   "metadata": {},
   "outputs": [
    {
     "data": {
      "text/plain": [
       "{'AMZN': Closing price            346.15\n",
       " EPS                        0.59\n",
       " Shares Outstanding(M)    459.00\n",
       " Beta                       0.52\n",
       " P/E                      589.80\n",
       " Market Cap(B)            158.88\n",
       " dtype: float64,\n",
       " 'GOOG': Closing price            1133.43\n",
       " EPS                        36.05\n",
       " Shares Outstanding(M)     335.83\n",
       " Beta                        0.87\n",
       " P/E                        31.44\n",
       " Market Cap(B)             380.64\n",
       " dtype: float64,\n",
       " 'FB': Closing price               61.48\n",
       " EPS                          0.59\n",
       "  Shares Outstanding(M)    2450.00\n",
       " P/E                        104.93\n",
       " Market Cap(B)              150.92\n",
       " dtype: float64,\n",
       " 'YHOO': Closing price              34.90\n",
       " EPS                         1.27\n",
       " Shares Outstanding(M)    1010.00\n",
       " P/E                        27.48\n",
       " Beta                        0.66\n",
       " Market Cap(B)              35.36\n",
       " dtype: float64,\n",
       " 'TWTR': Closing price             65.25\n",
       " EPS                       -0.30\n",
       " Shares Outstanding(M)    555.20\n",
       " Market Cap(B)             36.23\n",
       " dtype: float64,\n",
       " 'AAPL': Closing price            501.53\n",
       " EPS                       40.32\n",
       " Shares Outstanding(M)    892.45\n",
       " P/E                       12.44\n",
       " Market Cap(B)            447.59\n",
       " Beta                       0.84\n",
       " dtype: float64}"
      ]
     },
     "execution_count": 4,
     "metadata": {},
     "output_type": "execute_result"
    }
   ],
   "source": [
    "# Visualiza (como dict)\n",
    "stock"
   ]
  },
  {
   "cell_type": "code",
   "execution_count": 5,
   "id": "e5281562",
   "metadata": {},
   "outputs": [],
   "source": [
    "# Converte o dicionário em df do pandas (mantendo ordem original)\n",
    "stock_df = pd.DataFrame(stock)"
   ]
  },
  {
   "cell_type": "code",
   "execution_count": 6,
   "id": "24df7b4f",
   "metadata": {},
   "outputs": [
    {
     "data": {
      "text/html": [
       "<div>\n",
       "<style scoped>\n",
       "    .dataframe tbody tr th:only-of-type {\n",
       "        vertical-align: middle;\n",
       "    }\n",
       "\n",
       "    .dataframe tbody tr th {\n",
       "        vertical-align: top;\n",
       "    }\n",
       "\n",
       "    .dataframe thead th {\n",
       "        text-align: right;\n",
       "    }\n",
       "</style>\n",
       "<table border=\"1\" class=\"dataframe\">\n",
       "  <thead>\n",
       "    <tr style=\"text-align: right;\">\n",
       "      <th></th>\n",
       "      <th>AMZN</th>\n",
       "      <th>GOOG</th>\n",
       "      <th>FB</th>\n",
       "      <th>YHOO</th>\n",
       "      <th>TWTR</th>\n",
       "      <th>AAPL</th>\n",
       "    </tr>\n",
       "  </thead>\n",
       "  <tbody>\n",
       "    <tr>\n",
       "      <th>Shares Outstanding(M)</th>\n",
       "      <td>NaN</td>\n",
       "      <td>NaN</td>\n",
       "      <td>2450.00</td>\n",
       "      <td>NaN</td>\n",
       "      <td>NaN</td>\n",
       "      <td>NaN</td>\n",
       "    </tr>\n",
       "    <tr>\n",
       "      <th>Beta</th>\n",
       "      <td>0.52</td>\n",
       "      <td>0.87</td>\n",
       "      <td>NaN</td>\n",
       "      <td>0.66</td>\n",
       "      <td>NaN</td>\n",
       "      <td>0.84</td>\n",
       "    </tr>\n",
       "    <tr>\n",
       "      <th>Closing price</th>\n",
       "      <td>346.15</td>\n",
       "      <td>1133.43</td>\n",
       "      <td>61.48</td>\n",
       "      <td>34.90</td>\n",
       "      <td>65.25</td>\n",
       "      <td>501.53</td>\n",
       "    </tr>\n",
       "    <tr>\n",
       "      <th>EPS</th>\n",
       "      <td>0.59</td>\n",
       "      <td>36.05</td>\n",
       "      <td>0.59</td>\n",
       "      <td>1.27</td>\n",
       "      <td>-0.30</td>\n",
       "      <td>40.32</td>\n",
       "    </tr>\n",
       "    <tr>\n",
       "      <th>Market Cap(B)</th>\n",
       "      <td>158.88</td>\n",
       "      <td>380.64</td>\n",
       "      <td>150.92</td>\n",
       "      <td>35.36</td>\n",
       "      <td>36.23</td>\n",
       "      <td>447.59</td>\n",
       "    </tr>\n",
       "    <tr>\n",
       "      <th>P/E</th>\n",
       "      <td>589.80</td>\n",
       "      <td>31.44</td>\n",
       "      <td>104.93</td>\n",
       "      <td>27.48</td>\n",
       "      <td>NaN</td>\n",
       "      <td>12.44</td>\n",
       "    </tr>\n",
       "    <tr>\n",
       "      <th>Shares Outstanding(M)</th>\n",
       "      <td>459.00</td>\n",
       "      <td>335.83</td>\n",
       "      <td>NaN</td>\n",
       "      <td>1010.00</td>\n",
       "      <td>555.20</td>\n",
       "      <td>892.45</td>\n",
       "    </tr>\n",
       "  </tbody>\n",
       "</table>\n",
       "</div>"
      ],
      "text/plain": [
       "                          AMZN     GOOG       FB     YHOO    TWTR    AAPL\n",
       " Shares Outstanding(M)     NaN      NaN  2450.00      NaN     NaN     NaN\n",
       "Beta                      0.52     0.87      NaN     0.66     NaN    0.84\n",
       "Closing price           346.15  1133.43    61.48    34.90   65.25  501.53\n",
       "EPS                       0.59    36.05     0.59     1.27   -0.30   40.32\n",
       "Market Cap(B)           158.88   380.64   150.92    35.36   36.23  447.59\n",
       "P/E                     589.80    31.44   104.93    27.48     NaN   12.44\n",
       "Shares Outstanding(M)   459.00   335.83      NaN  1010.00  555.20  892.45"
      ]
     },
     "execution_count": 6,
     "metadata": {},
     "output_type": "execute_result"
    }
   ],
   "source": [
    "# Visualiza os dados\n",
    "stock_df"
   ]
  },
  {
   "cell_type": "markdown",
   "id": "718ce95f",
   "metadata": {},
   "source": [
    "Perceba que foi adicionado valores NaN (isso é feito por conta da criação do dicionário onde a ordem dos índices não foram iguais)"
   ]
  },
  {
   "cell_type": "code",
   "execution_count": 7,
   "id": "c0c5681e",
   "metadata": {},
   "outputs": [],
   "source": [
    "# Converte o dicionário em df do pandas (definindo quais são os índices de cada linha e a ordem desejada)\n",
    "stock_df = pd.DataFrame(stock, \n",
    "                        index = ['Closing price',\n",
    "                                 'EPS', \n",
    "                                 'Shares Outstanding(M)',\n",
    "                                 'P/E', \n",
    "                                 'Market Cap(B)',\n",
    "                                 'Beta'])"
   ]
  },
  {
   "cell_type": "code",
   "execution_count": 9,
   "id": "4e957f1c",
   "metadata": {},
   "outputs": [
    {
     "data": {
      "text/html": [
       "<div>\n",
       "<style scoped>\n",
       "    .dataframe tbody tr th:only-of-type {\n",
       "        vertical-align: middle;\n",
       "    }\n",
       "\n",
       "    .dataframe tbody tr th {\n",
       "        vertical-align: top;\n",
       "    }\n",
       "\n",
       "    .dataframe thead th {\n",
       "        text-align: right;\n",
       "    }\n",
       "</style>\n",
       "<table border=\"1\" class=\"dataframe\">\n",
       "  <thead>\n",
       "    <tr style=\"text-align: right;\">\n",
       "      <th></th>\n",
       "      <th>AMZN</th>\n",
       "      <th>GOOG</th>\n",
       "      <th>FB</th>\n",
       "      <th>YHOO</th>\n",
       "      <th>TWTR</th>\n",
       "      <th>AAPL</th>\n",
       "    </tr>\n",
       "  </thead>\n",
       "  <tbody>\n",
       "    <tr>\n",
       "      <th>Closing price</th>\n",
       "      <td>346.15</td>\n",
       "      <td>1133.43</td>\n",
       "      <td>61.48</td>\n",
       "      <td>34.90</td>\n",
       "      <td>65.25</td>\n",
       "      <td>501.53</td>\n",
       "    </tr>\n",
       "    <tr>\n",
       "      <th>EPS</th>\n",
       "      <td>0.59</td>\n",
       "      <td>36.05</td>\n",
       "      <td>0.59</td>\n",
       "      <td>1.27</td>\n",
       "      <td>-0.30</td>\n",
       "      <td>40.32</td>\n",
       "    </tr>\n",
       "    <tr>\n",
       "      <th>Shares Outstanding(M)</th>\n",
       "      <td>459.00</td>\n",
       "      <td>335.83</td>\n",
       "      <td>NaN</td>\n",
       "      <td>1010.00</td>\n",
       "      <td>555.20</td>\n",
       "      <td>892.45</td>\n",
       "    </tr>\n",
       "    <tr>\n",
       "      <th>P/E</th>\n",
       "      <td>589.80</td>\n",
       "      <td>31.44</td>\n",
       "      <td>104.93</td>\n",
       "      <td>27.48</td>\n",
       "      <td>NaN</td>\n",
       "      <td>12.44</td>\n",
       "    </tr>\n",
       "    <tr>\n",
       "      <th>Market Cap(B)</th>\n",
       "      <td>158.88</td>\n",
       "      <td>380.64</td>\n",
       "      <td>150.92</td>\n",
       "      <td>35.36</td>\n",
       "      <td>36.23</td>\n",
       "      <td>447.59</td>\n",
       "    </tr>\n",
       "    <tr>\n",
       "      <th>Beta</th>\n",
       "      <td>0.52</td>\n",
       "      <td>0.87</td>\n",
       "      <td>NaN</td>\n",
       "      <td>0.66</td>\n",
       "      <td>NaN</td>\n",
       "      <td>0.84</td>\n",
       "    </tr>\n",
       "  </tbody>\n",
       "</table>\n",
       "</div>"
      ],
      "text/plain": [
       "                         AMZN     GOOG      FB     YHOO    TWTR    AAPL\n",
       "Closing price          346.15  1133.43   61.48    34.90   65.25  501.53\n",
       "EPS                      0.59    36.05    0.59     1.27   -0.30   40.32\n",
       "Shares Outstanding(M)  459.00   335.83     NaN  1010.00  555.20  892.45\n",
       "P/E                    589.80    31.44  104.93    27.48     NaN   12.44\n",
       "Market Cap(B)          158.88   380.64  150.92    35.36   36.23  447.59\n",
       "Beta                     0.52     0.87     NaN     0.66     NaN    0.84"
      ]
     },
     "execution_count": 9,
     "metadata": {},
     "output_type": "execute_result"
    }
   ],
   "source": [
    "# Visualiza os dados\n",
    "stock_df"
   ]
  },
  {
   "cell_type": "code",
   "execution_count": 10,
   "id": "b9aedd96",
   "metadata": {},
   "outputs": [],
   "source": [
    "# Converte o dicionário em df do pandas (definindo quais são os índices de cada linha e os títulos das colunas\n",
    "stock_df = pd.DataFrame(stock,\n",
    "                        index = ['Closing price',\n",
    "                                 'EPS',\n",
    "                                 'Shares Outstanding(M)',\n",
    "                                 'P/E', \n",
    "                                 'Market Cap(B)',\n",
    "                                 'Beta'],\n",
    "                        columns = ['AMZN','GOOG','FB'])"
   ]
  },
  {
   "cell_type": "code",
   "execution_count": 11,
   "id": "09ec22de",
   "metadata": {},
   "outputs": [
    {
     "data": {
      "text/html": [
       "<div>\n",
       "<style scoped>\n",
       "    .dataframe tbody tr th:only-of-type {\n",
       "        vertical-align: middle;\n",
       "    }\n",
       "\n",
       "    .dataframe tbody tr th {\n",
       "        vertical-align: top;\n",
       "    }\n",
       "\n",
       "    .dataframe thead th {\n",
       "        text-align: right;\n",
       "    }\n",
       "</style>\n",
       "<table border=\"1\" class=\"dataframe\">\n",
       "  <thead>\n",
       "    <tr style=\"text-align: right;\">\n",
       "      <th></th>\n",
       "      <th>AMZN</th>\n",
       "      <th>GOOG</th>\n",
       "      <th>FB</th>\n",
       "    </tr>\n",
       "  </thead>\n",
       "  <tbody>\n",
       "    <tr>\n",
       "      <th>Closing price</th>\n",
       "      <td>346.15</td>\n",
       "      <td>1133.43</td>\n",
       "      <td>61.48</td>\n",
       "    </tr>\n",
       "    <tr>\n",
       "      <th>EPS</th>\n",
       "      <td>0.59</td>\n",
       "      <td>36.05</td>\n",
       "      <td>0.59</td>\n",
       "    </tr>\n",
       "    <tr>\n",
       "      <th>Shares Outstanding(M)</th>\n",
       "      <td>459.00</td>\n",
       "      <td>335.83</td>\n",
       "      <td>NaN</td>\n",
       "    </tr>\n",
       "    <tr>\n",
       "      <th>P/E</th>\n",
       "      <td>589.80</td>\n",
       "      <td>31.44</td>\n",
       "      <td>104.93</td>\n",
       "    </tr>\n",
       "    <tr>\n",
       "      <th>Market Cap(B)</th>\n",
       "      <td>158.88</td>\n",
       "      <td>380.64</td>\n",
       "      <td>150.92</td>\n",
       "    </tr>\n",
       "    <tr>\n",
       "      <th>Beta</th>\n",
       "      <td>0.52</td>\n",
       "      <td>0.87</td>\n",
       "      <td>NaN</td>\n",
       "    </tr>\n",
       "  </tbody>\n",
       "</table>\n",
       "</div>"
      ],
      "text/plain": [
       "                         AMZN     GOOG      FB\n",
       "Closing price          346.15  1133.43   61.48\n",
       "EPS                      0.59    36.05    0.59\n",
       "Shares Outstanding(M)  459.00   335.83     NaN\n",
       "P/E                    589.80    31.44  104.93\n",
       "Market Cap(B)          158.88   380.64  150.92\n",
       "Beta                     0.52     0.87     NaN"
      ]
     },
     "execution_count": 11,
     "metadata": {},
     "output_type": "execute_result"
    }
   ],
   "source": [
    "# Visualiza os dados\n",
    "stock_df"
   ]
  },
  {
   "cell_type": "code",
   "execution_count": 12,
   "id": "56f33bb2",
   "metadata": {},
   "outputs": [
    {
     "data": {
      "text/plain": [
       "Index(['Closing price', 'EPS', 'Shares Outstanding(M)', 'P/E', 'Market Cap(B)',\n",
       "       'Beta'],\n",
       "      dtype='object')"
      ]
     },
     "execution_count": 12,
     "metadata": {},
     "output_type": "execute_result"
    }
   ],
   "source": [
    "# Visualizano os Índices\n",
    "stock_df.index"
   ]
  },
  {
   "cell_type": "code",
   "execution_count": 13,
   "id": "d89a1970",
   "metadata": {},
   "outputs": [
    {
     "data": {
      "text/plain": [
       "Index(['AMZN', 'GOOG', 'FB'], dtype='object')"
      ]
     },
     "execution_count": 13,
     "metadata": {},
     "output_type": "execute_result"
    }
   ],
   "source": [
    "# Visualizando as Colunas\n",
    "stock_df.columns"
   ]
  },
  {
   "cell_type": "markdown",
   "id": "64d226b0",
   "metadata": {},
   "source": [
    "## Parte 2"
   ]
  },
  {
   "cell_type": "code",
   "execution_count": 14,
   "id": "c609aace",
   "metadata": {},
   "outputs": [],
   "source": [
    "# Criando um novo Dicionário\n",
    "Quadro_Medalhas_Olimpiada = {\n",
    "    'EUA' : {'Ouro':46, 'Prata':37, 'Bronze':38},\n",
    "    'China':{'Ouro':26, 'Prata':18, 'Bronze':26},\n",
    "    'Inglaterra':{'Ouro':27, 'Prata':23, 'Bronze':17},\n",
    "    'Alemanha':{'Ouro':19, 'Prata':18, 'Bronze':19},\n",
    "    'Uruguai':{'Ouro':17, 'Prata':10, 'Bronze':15}}"
   ]
  },
  {
   "cell_type": "code",
   "execution_count": 15,
   "id": "1ee14da6",
   "metadata": {},
   "outputs": [],
   "source": [
    "# Converte para dataframe\n",
    "df_olimpiada = pd.DataFrame.from_dict(Quadro_Medalhas_Olimpiada)"
   ]
  },
  {
   "cell_type": "code",
   "execution_count": 16,
   "id": "cf1dc6c9",
   "metadata": {},
   "outputs": [
    {
     "data": {
      "text/html": [
       "<div>\n",
       "<style scoped>\n",
       "    .dataframe tbody tr th:only-of-type {\n",
       "        vertical-align: middle;\n",
       "    }\n",
       "\n",
       "    .dataframe tbody tr th {\n",
       "        vertical-align: top;\n",
       "    }\n",
       "\n",
       "    .dataframe thead th {\n",
       "        text-align: right;\n",
       "    }\n",
       "</style>\n",
       "<table border=\"1\" class=\"dataframe\">\n",
       "  <thead>\n",
       "    <tr style=\"text-align: right;\">\n",
       "      <th></th>\n",
       "      <th>EUA</th>\n",
       "      <th>China</th>\n",
       "      <th>Inglaterra</th>\n",
       "      <th>Alemanha</th>\n",
       "      <th>Uruguai</th>\n",
       "    </tr>\n",
       "  </thead>\n",
       "  <tbody>\n",
       "    <tr>\n",
       "      <th>Ouro</th>\n",
       "      <td>46</td>\n",
       "      <td>26</td>\n",
       "      <td>27</td>\n",
       "      <td>19</td>\n",
       "      <td>17</td>\n",
       "    </tr>\n",
       "    <tr>\n",
       "      <th>Prata</th>\n",
       "      <td>37</td>\n",
       "      <td>18</td>\n",
       "      <td>23</td>\n",
       "      <td>18</td>\n",
       "      <td>10</td>\n",
       "    </tr>\n",
       "    <tr>\n",
       "      <th>Bronze</th>\n",
       "      <td>38</td>\n",
       "      <td>26</td>\n",
       "      <td>17</td>\n",
       "      <td>19</td>\n",
       "      <td>15</td>\n",
       "    </tr>\n",
       "  </tbody>\n",
       "</table>\n",
       "</div>"
      ],
      "text/plain": [
       "        EUA  China  Inglaterra  Alemanha  Uruguai\n",
       "Ouro     46     26          27        19       17\n",
       "Prata    37     18          23        18       10\n",
       "Bronze   38     26          17        19       15"
      ]
     },
     "execution_count": 16,
     "metadata": {},
     "output_type": "execute_result"
    }
   ],
   "source": [
    "# Visualizando\n",
    "df_olimpiada"
   ]
  },
  {
   "cell_type": "code",
   "execution_count": 17,
   "id": "d91b2818",
   "metadata": {},
   "outputs": [
    {
     "data": {
      "text/plain": [
       "Ouro      17\n",
       "Prata     10\n",
       "Bronze    15\n",
       "Name: Uruguai, dtype: int64"
      ]
     },
     "execution_count": 17,
     "metadata": {},
     "output_type": "execute_result"
    }
   ],
   "source": [
    "# Visualizando uma Coluna só   (forma 1)\n",
    "df_olimpiada['Uruguai']"
   ]
  },
  {
   "cell_type": "code",
   "execution_count": 18,
   "id": "7b38cc6e",
   "metadata": {},
   "outputs": [
    {
     "name": "stdout",
     "output_type": "stream",
     "text": [
      "Type <class 'pandas.core.series.Series'>\n"
     ]
    }
   ],
   "source": [
    "# Criando um novo objeto dataframe usando dados de 1 coluna\n",
    "Medalhas_Uruguai = df_olimpiada['Uruguai']\n",
    "\n",
    "# Verificando o tipo\n",
    "print('Type', type(Medalhas_Uruguai))"
   ]
  },
  {
   "cell_type": "code",
   "execution_count": 19,
   "id": "4c73ab78",
   "metadata": {},
   "outputs": [
    {
     "data": {
      "text/plain": [
       "Ouro      17\n",
       "Prata     10\n",
       "Bronze    15\n",
       "Name: Uruguai, dtype: int64"
      ]
     },
     "execution_count": 19,
     "metadata": {},
     "output_type": "execute_result"
    }
   ],
   "source": [
    "# Visualizando novo objeto Dataframe\n",
    "Medalhas_Uruguai"
   ]
  },
  {
   "cell_type": "code",
   "execution_count": 20,
   "id": "eb7a9e78",
   "metadata": {},
   "outputs": [
    {
     "data": {
      "text/plain": [
       "Ouro      27\n",
       "Prata     23\n",
       "Bronze    17\n",
       "Name: Inglaterra, dtype: int64"
      ]
     },
     "execution_count": 20,
     "metadata": {},
     "output_type": "execute_result"
    }
   ],
   "source": [
    "# Visualizando uma Coluna só   (forma 2)\n",
    "df_olimpiada.Inglaterra"
   ]
  },
  {
   "cell_type": "code",
   "execution_count": 21,
   "id": "fd1f6890",
   "metadata": {},
   "outputs": [
    {
     "data": {
      "text/html": [
       "<div>\n",
       "<style scoped>\n",
       "    .dataframe tbody tr th:only-of-type {\n",
       "        vertical-align: middle;\n",
       "    }\n",
       "\n",
       "    .dataframe tbody tr th {\n",
       "        vertical-align: top;\n",
       "    }\n",
       "\n",
       "    .dataframe thead th {\n",
       "        text-align: right;\n",
       "    }\n",
       "</style>\n",
       "<table border=\"1\" class=\"dataframe\">\n",
       "  <thead>\n",
       "    <tr style=\"text-align: right;\">\n",
       "      <th></th>\n",
       "      <th>Alemanha</th>\n",
       "      <th>EUA</th>\n",
       "    </tr>\n",
       "  </thead>\n",
       "  <tbody>\n",
       "    <tr>\n",
       "      <th>Ouro</th>\n",
       "      <td>19</td>\n",
       "      <td>46</td>\n",
       "    </tr>\n",
       "    <tr>\n",
       "      <th>Prata</th>\n",
       "      <td>18</td>\n",
       "      <td>37</td>\n",
       "    </tr>\n",
       "    <tr>\n",
       "      <th>Bronze</th>\n",
       "      <td>19</td>\n",
       "      <td>38</td>\n",
       "    </tr>\n",
       "  </tbody>\n",
       "</table>\n",
       "</div>"
      ],
      "text/plain": [
       "        Alemanha  EUA\n",
       "Ouro          19   46\n",
       "Prata         18   37\n",
       "Bronze        19   38"
      ]
     },
     "execution_count": 21,
     "metadata": {},
     "output_type": "execute_result"
    }
   ],
   "source": [
    "# Visualizando duas Colunas\n",
    "df_olimpiada[['Alemanha','EUA']]"
   ]
  },
  {
   "cell_type": "code",
   "execution_count": 22,
   "id": "16f049fa",
   "metadata": {},
   "outputs": [
    {
     "data": {
      "text/plain": [
       "Ouro      27\n",
       "Prata     23\n",
       "Bronze    17\n",
       "Name: Inglaterra, dtype: int64"
      ]
     },
     "execution_count": 22,
     "metadata": {},
     "output_type": "execute_result"
    }
   ],
   "source": [
    "# Visualizando uma Coluna só   (forma 3)\n",
    "df_olimpiada.get('Inglaterra')"
   ]
  },
  {
   "cell_type": "markdown",
   "id": "87f0bb80",
   "metadata": {},
   "source": [
    "## Parte 3"
   ]
  },
  {
   "cell_type": "code",
   "execution_count": 23,
   "id": "29619d29",
   "metadata": {},
   "outputs": [
    {
     "data": {
      "text/html": [
       "<div>\n",
       "<style scoped>\n",
       "    .dataframe tbody tr th:only-of-type {\n",
       "        vertical-align: middle;\n",
       "    }\n",
       "\n",
       "    .dataframe tbody tr th {\n",
       "        vertical-align: top;\n",
       "    }\n",
       "\n",
       "    .dataframe thead th {\n",
       "        text-align: right;\n",
       "    }\n",
       "</style>\n",
       "<table border=\"1\" class=\"dataframe\">\n",
       "  <thead>\n",
       "    <tr style=\"text-align: right;\">\n",
       "      <th></th>\n",
       "      <th>EUA</th>\n",
       "      <th>China</th>\n",
       "      <th>Inglaterra</th>\n",
       "      <th>Alemanha</th>\n",
       "      <th>Uruguai</th>\n",
       "    </tr>\n",
       "  </thead>\n",
       "  <tbody>\n",
       "    <tr>\n",
       "      <th>Ouro</th>\n",
       "      <td>46</td>\n",
       "      <td>26</td>\n",
       "      <td>27</td>\n",
       "      <td>19</td>\n",
       "      <td>17</td>\n",
       "    </tr>\n",
       "    <tr>\n",
       "      <th>Prata</th>\n",
       "      <td>37</td>\n",
       "      <td>18</td>\n",
       "      <td>23</td>\n",
       "      <td>18</td>\n",
       "      <td>10</td>\n",
       "    </tr>\n",
       "    <tr>\n",
       "      <th>Bronze</th>\n",
       "      <td>38</td>\n",
       "      <td>26</td>\n",
       "      <td>17</td>\n",
       "      <td>19</td>\n",
       "      <td>15</td>\n",
       "    </tr>\n",
       "  </tbody>\n",
       "</table>\n",
       "</div>"
      ],
      "text/plain": [
       "        EUA  China  Inglaterra  Alemanha  Uruguai\n",
       "Ouro     46     26          27        19       17\n",
       "Prata    37     18          23        18       10\n",
       "Bronze   38     26          17        19       15"
      ]
     },
     "execution_count": 23,
     "metadata": {},
     "output_type": "execute_result"
    }
   ],
   "source": [
    "# Visualizando todo o dataframe\n",
    "df_olimpiada"
   ]
  },
  {
   "cell_type": "code",
   "execution_count": 32,
   "id": "6b69434c",
   "metadata": {},
   "outputs": [
    {
     "data": {
      "text/html": [
       "<div>\n",
       "<style scoped>\n",
       "    .dataframe tbody tr th:only-of-type {\n",
       "        vertical-align: middle;\n",
       "    }\n",
       "\n",
       "    .dataframe tbody tr th {\n",
       "        vertical-align: top;\n",
       "    }\n",
       "\n",
       "    .dataframe thead th {\n",
       "        text-align: right;\n",
       "    }\n",
       "</style>\n",
       "<table border=\"1\" class=\"dataframe\">\n",
       "  <thead>\n",
       "    <tr style=\"text-align: right;\">\n",
       "      <th></th>\n",
       "      <th>EUA</th>\n",
       "      <th>China</th>\n",
       "      <th>Inglaterra</th>\n",
       "      <th>Alemanha</th>\n",
       "      <th>Uruguai</th>\n",
       "    </tr>\n",
       "  </thead>\n",
       "  <tbody>\n",
       "  </tbody>\n",
       "</table>\n",
       "</div>"
      ],
      "text/plain": [
       "Empty DataFrame\n",
       "Columns: [EUA, China, Inglaterra, Alemanha, Uruguai]\n",
       "Index: []"
      ]
     },
     "execution_count": 32,
     "metadata": {},
     "output_type": "execute_result"
    }
   ],
   "source": [
    "# Visualizando todas as linhas até o índice 0 (índice 0 é o cabeçalho)\n",
    "df_olimpiada[:0]"
   ]
  },
  {
   "cell_type": "code",
   "execution_count": 33,
   "id": "04716b3a",
   "metadata": {},
   "outputs": [
    {
     "data": {
      "text/html": [
       "<div>\n",
       "<style scoped>\n",
       "    .dataframe tbody tr th:only-of-type {\n",
       "        vertical-align: middle;\n",
       "    }\n",
       "\n",
       "    .dataframe tbody tr th {\n",
       "        vertical-align: top;\n",
       "    }\n",
       "\n",
       "    .dataframe thead th {\n",
       "        text-align: right;\n",
       "    }\n",
       "</style>\n",
       "<table border=\"1\" class=\"dataframe\">\n",
       "  <thead>\n",
       "    <tr style=\"text-align: right;\">\n",
       "      <th></th>\n",
       "      <th>EUA</th>\n",
       "      <th>China</th>\n",
       "      <th>Inglaterra</th>\n",
       "      <th>Alemanha</th>\n",
       "      <th>Uruguai</th>\n",
       "    </tr>\n",
       "  </thead>\n",
       "  <tbody>\n",
       "    <tr>\n",
       "      <th>Ouro</th>\n",
       "      <td>46</td>\n",
       "      <td>26</td>\n",
       "      <td>27</td>\n",
       "      <td>19</td>\n",
       "      <td>17</td>\n",
       "    </tr>\n",
       "    <tr>\n",
       "      <th>Prata</th>\n",
       "      <td>37</td>\n",
       "      <td>18</td>\n",
       "      <td>23</td>\n",
       "      <td>18</td>\n",
       "      <td>10</td>\n",
       "    </tr>\n",
       "  </tbody>\n",
       "</table>\n",
       "</div>"
      ],
      "text/plain": [
       "       EUA  China  Inglaterra  Alemanha  Uruguai\n",
       "Ouro    46     26          27        19       17\n",
       "Prata   37     18          23        18       10"
      ]
     },
     "execution_count": 33,
     "metadata": {},
     "output_type": "execute_result"
    }
   ],
   "source": [
    "# Visualizando todas as linhas até o índice 2 (índice 0 é o cabeçalho)\n",
    "df_olimpiada[:2]"
   ]
  },
  {
   "cell_type": "code",
   "execution_count": 35,
   "id": "5e1364d6",
   "metadata": {},
   "outputs": [
    {
     "data": {
      "text/html": [
       "<div>\n",
       "<style scoped>\n",
       "    .dataframe tbody tr th:only-of-type {\n",
       "        vertical-align: middle;\n",
       "    }\n",
       "\n",
       "    .dataframe tbody tr th {\n",
       "        vertical-align: top;\n",
       "    }\n",
       "\n",
       "    .dataframe thead th {\n",
       "        text-align: right;\n",
       "    }\n",
       "</style>\n",
       "<table border=\"1\" class=\"dataframe\">\n",
       "  <thead>\n",
       "    <tr style=\"text-align: right;\">\n",
       "      <th></th>\n",
       "      <th>EUA</th>\n",
       "      <th>China</th>\n",
       "      <th>Inglaterra</th>\n",
       "      <th>Alemanha</th>\n",
       "      <th>Uruguai</th>\n",
       "    </tr>\n",
       "  </thead>\n",
       "  <tbody>\n",
       "    <tr>\n",
       "      <th>Prata</th>\n",
       "      <td>37</td>\n",
       "      <td>18</td>\n",
       "      <td>23</td>\n",
       "      <td>18</td>\n",
       "      <td>10</td>\n",
       "    </tr>\n",
       "    <tr>\n",
       "      <th>Bronze</th>\n",
       "      <td>38</td>\n",
       "      <td>26</td>\n",
       "      <td>17</td>\n",
       "      <td>19</td>\n",
       "      <td>15</td>\n",
       "    </tr>\n",
       "  </tbody>\n",
       "</table>\n",
       "</div>"
      ],
      "text/plain": [
       "        EUA  China  Inglaterra  Alemanha  Uruguai\n",
       "Prata    37     18          23        18       10\n",
       "Bronze   38     26          17        19       15"
      ]
     },
     "execution_count": 35,
     "metadata": {},
     "output_type": "execute_result"
    }
   ],
   "source": [
    "# Visualizando todas as linhas a partir do índice 1 (índice 0 é o cabeçalho)\n",
    "df_olimpiada[1:]"
   ]
  },
  {
   "cell_type": "code",
   "execution_count": 36,
   "id": "37a2505e",
   "metadata": {},
   "outputs": [
    {
     "data": {
      "text/html": [
       "<div>\n",
       "<style scoped>\n",
       "    .dataframe tbody tr th:only-of-type {\n",
       "        vertical-align: middle;\n",
       "    }\n",
       "\n",
       "    .dataframe tbody tr th {\n",
       "        vertical-align: top;\n",
       "    }\n",
       "\n",
       "    .dataframe thead th {\n",
       "        text-align: right;\n",
       "    }\n",
       "</style>\n",
       "<table border=\"1\" class=\"dataframe\">\n",
       "  <thead>\n",
       "    <tr style=\"text-align: right;\">\n",
       "      <th></th>\n",
       "      <th>EUA</th>\n",
       "      <th>China</th>\n",
       "      <th>Inglaterra</th>\n",
       "      <th>Alemanha</th>\n",
       "      <th>Uruguai</th>\n",
       "    </tr>\n",
       "  </thead>\n",
       "  <tbody>\n",
       "    <tr>\n",
       "      <th>Bronze</th>\n",
       "      <td>38</td>\n",
       "      <td>26</td>\n",
       "      <td>17</td>\n",
       "      <td>19</td>\n",
       "      <td>15</td>\n",
       "    </tr>\n",
       "  </tbody>\n",
       "</table>\n",
       "</div>"
      ],
      "text/plain": [
       "        EUA  China  Inglaterra  Alemanha  Uruguai\n",
       "Bronze   38     26          17        19       15"
      ]
     },
     "execution_count": 36,
     "metadata": {},
     "output_type": "execute_result"
    }
   ],
   "source": [
    "# Visualizando todas as linhas a partir do índice 2 (índice 0 é o cabeçalho)\n",
    "df_olimpiada[2:]"
   ]
  },
  {
   "cell_type": "code",
   "execution_count": 43,
   "id": "d06ba6de",
   "metadata": {},
   "outputs": [
    {
     "data": {
      "text/html": [
       "<div>\n",
       "<style scoped>\n",
       "    .dataframe tbody tr th:only-of-type {\n",
       "        vertical-align: middle;\n",
       "    }\n",
       "\n",
       "    .dataframe tbody tr th {\n",
       "        vertical-align: top;\n",
       "    }\n",
       "\n",
       "    .dataframe thead th {\n",
       "        text-align: right;\n",
       "    }\n",
       "</style>\n",
       "<table border=\"1\" class=\"dataframe\">\n",
       "  <thead>\n",
       "    <tr style=\"text-align: right;\">\n",
       "      <th></th>\n",
       "      <th>EUA</th>\n",
       "      <th>China</th>\n",
       "      <th>Inglaterra</th>\n",
       "      <th>Alemanha</th>\n",
       "      <th>Uruguai</th>\n",
       "      <th>Japão</th>\n",
       "      <th>Austrália</th>\n",
       "      <th>Noruega</th>\n",
       "      <th>Polônia</th>\n",
       "      <th>Rep. Tcheca</th>\n",
       "      <th>Suiça</th>\n",
       "      <th>Áustria</th>\n",
       "    </tr>\n",
       "  </thead>\n",
       "  <tbody>\n",
       "    <tr>\n",
       "      <th>Ouro</th>\n",
       "      <td>46</td>\n",
       "      <td>26</td>\n",
       "      <td>27</td>\n",
       "      <td>19</td>\n",
       "      <td>17</td>\n",
       "      <td>14</td>\n",
       "      <td>12</td>\n",
       "      <td>10</td>\n",
       "      <td>9</td>\n",
       "      <td>7</td>\n",
       "      <td>7</td>\n",
       "      <td>6</td>\n",
       "    </tr>\n",
       "    <tr>\n",
       "      <th>Prata</th>\n",
       "      <td>37</td>\n",
       "      <td>18</td>\n",
       "      <td>23</td>\n",
       "      <td>18</td>\n",
       "      <td>10</td>\n",
       "      <td>17</td>\n",
       "      <td>14</td>\n",
       "      <td>12</td>\n",
       "      <td>10</td>\n",
       "      <td>8</td>\n",
       "      <td>7</td>\n",
       "      <td>7</td>\n",
       "    </tr>\n",
       "    <tr>\n",
       "      <th>Bronze</th>\n",
       "      <td>38</td>\n",
       "      <td>26</td>\n",
       "      <td>17</td>\n",
       "      <td>19</td>\n",
       "      <td>15</td>\n",
       "      <td>18</td>\n",
       "      <td>17</td>\n",
       "      <td>14</td>\n",
       "      <td>12</td>\n",
       "      <td>11</td>\n",
       "      <td>9</td>\n",
       "      <td>8</td>\n",
       "    </tr>\n",
       "  </tbody>\n",
       "</table>\n",
       "</div>"
      ],
      "text/plain": [
       "        EUA  China  Inglaterra  Alemanha  Uruguai  Japão  Austrália  Noruega  \\\n",
       "Ouro     46     26          27        19       17     14         12       10   \n",
       "Prata    37     18          23        18       10     17         14       12   \n",
       "Bronze   38     26          17        19       15     18         17       14   \n",
       "\n",
       "        Polônia  Rep. Tcheca  Suiça  Áustria  \n",
       "Ouro          9            7      7        6  \n",
       "Prata        10            8      7        7  \n",
       "Bronze       12           11      9        8  "
      ]
     },
     "execution_count": 43,
     "metadata": {},
     "output_type": "execute_result"
    }
   ],
   "source": [
    "# Criando um novo Dicionário com mais Linhas\n",
    "Quadro_Medalhas_Olimpiada2 = {\n",
    "    'EUA' : {'Ouro':46, 'Prata':37, 'Bronze':38},\n",
    "    'China':{'Ouro':26, 'Prata':18, 'Bronze':26},\n",
    "    'Inglaterra':{'Ouro':27, 'Prata':23, 'Bronze':17},\n",
    "    'Alemanha':{'Ouro':19, 'Prata':18, 'Bronze':19},\n",
    "    'Uruguai':{'Ouro':17, 'Prata':10, 'Bronze':15},\n",
    "    'Japão':{'Ouro':14, 'Prata':17, 'Bronze':18},\n",
    "    'Austrália':{'Ouro':12, 'Prata':14, 'Bronze':17},\n",
    "    'Noruega':{'Ouro':10, 'Prata':12, 'Bronze':14},\n",
    "    'Polônia':{'Ouro':9, 'Prata':10, 'Bronze':12},\n",
    "    'Rep. Tcheca':{'Ouro':7, 'Prata':8, 'Bronze':11},\n",
    "    'Suiça':{'Ouro':7, 'Prata':7, 'Bronze':9},\n",
    "    'Áustria':{'Ouro':6, 'Prata':7, 'Bronze':8},\n",
    "}\n",
    "\n",
    "# Converte para dataframe\n",
    "df_olimpiada2 = pd.DataFrame.from_dict(Quadro_Medalhas_Olimpiada2)\n",
    "\n",
    "df_olimpiada2"
   ]
  },
  {
   "cell_type": "code",
   "execution_count": 44,
   "id": "2c168913",
   "metadata": {},
   "outputs": [
    {
     "data": {
      "text/html": [
       "<div>\n",
       "<style scoped>\n",
       "    .dataframe tbody tr th:only-of-type {\n",
       "        vertical-align: middle;\n",
       "    }\n",
       "\n",
       "    .dataframe tbody tr th {\n",
       "        vertical-align: top;\n",
       "    }\n",
       "\n",
       "    .dataframe thead th {\n",
       "        text-align: right;\n",
       "    }\n",
       "</style>\n",
       "<table border=\"1\" class=\"dataframe\">\n",
       "  <thead>\n",
       "    <tr style=\"text-align: right;\">\n",
       "      <th></th>\n",
       "      <th>Ouro</th>\n",
       "      <th>Prata</th>\n",
       "      <th>Bronze</th>\n",
       "    </tr>\n",
       "  </thead>\n",
       "  <tbody>\n",
       "    <tr>\n",
       "      <th>EUA</th>\n",
       "      <td>46</td>\n",
       "      <td>37</td>\n",
       "      <td>38</td>\n",
       "    </tr>\n",
       "    <tr>\n",
       "      <th>China</th>\n",
       "      <td>26</td>\n",
       "      <td>18</td>\n",
       "      <td>26</td>\n",
       "    </tr>\n",
       "    <tr>\n",
       "      <th>Inglaterra</th>\n",
       "      <td>27</td>\n",
       "      <td>23</td>\n",
       "      <td>17</td>\n",
       "    </tr>\n",
       "    <tr>\n",
       "      <th>Alemanha</th>\n",
       "      <td>19</td>\n",
       "      <td>18</td>\n",
       "      <td>19</td>\n",
       "    </tr>\n",
       "    <tr>\n",
       "      <th>Uruguai</th>\n",
       "      <td>17</td>\n",
       "      <td>10</td>\n",
       "      <td>15</td>\n",
       "    </tr>\n",
       "    <tr>\n",
       "      <th>Japão</th>\n",
       "      <td>14</td>\n",
       "      <td>17</td>\n",
       "      <td>18</td>\n",
       "    </tr>\n",
       "    <tr>\n",
       "      <th>Austrália</th>\n",
       "      <td>12</td>\n",
       "      <td>14</td>\n",
       "      <td>17</td>\n",
       "    </tr>\n",
       "    <tr>\n",
       "      <th>Noruega</th>\n",
       "      <td>10</td>\n",
       "      <td>12</td>\n",
       "      <td>14</td>\n",
       "    </tr>\n",
       "    <tr>\n",
       "      <th>Polônia</th>\n",
       "      <td>9</td>\n",
       "      <td>10</td>\n",
       "      <td>12</td>\n",
       "    </tr>\n",
       "    <tr>\n",
       "      <th>Rep. Tcheca</th>\n",
       "      <td>7</td>\n",
       "      <td>8</td>\n",
       "      <td>11</td>\n",
       "    </tr>\n",
       "    <tr>\n",
       "      <th>Suiça</th>\n",
       "      <td>7</td>\n",
       "      <td>7</td>\n",
       "      <td>9</td>\n",
       "    </tr>\n",
       "    <tr>\n",
       "      <th>Áustria</th>\n",
       "      <td>6</td>\n",
       "      <td>7</td>\n",
       "      <td>8</td>\n",
       "    </tr>\n",
       "  </tbody>\n",
       "</table>\n",
       "</div>"
      ],
      "text/plain": [
       "             Ouro  Prata  Bronze\n",
       "EUA            46     37      38\n",
       "China          26     18      26\n",
       "Inglaterra     27     23      17\n",
       "Alemanha       19     18      19\n",
       "Uruguai        17     10      15\n",
       "Japão          14     17      18\n",
       "Austrália      12     14      17\n",
       "Noruega        10     12      14\n",
       "Polônia         9     10      12\n",
       "Rep. Tcheca     7      8      11\n",
       "Suiça           7      7       9\n",
       "Áustria         6      7       8"
      ]
     },
     "execution_count": 44,
     "metadata": {},
     "output_type": "execute_result"
    }
   ],
   "source": [
    "# Transpondo o DataFrame para que os países sejam as linhas e os tipos de medalhas sejam as colunas\n",
    "df_olimpiada2 = df_olimpiada2.T\n",
    "\n",
    "# Exibindo o DataFrame transposto\n",
    "df_olimpiada2"
   ]
  },
  {
   "cell_type": "code",
   "execution_count": 45,
   "id": "0b4ebbf3",
   "metadata": {},
   "outputs": [
    {
     "data": {
      "text/html": [
       "<div>\n",
       "<style scoped>\n",
       "    .dataframe tbody tr th:only-of-type {\n",
       "        vertical-align: middle;\n",
       "    }\n",
       "\n",
       "    .dataframe tbody tr th {\n",
       "        vertical-align: top;\n",
       "    }\n",
       "\n",
       "    .dataframe thead th {\n",
       "        text-align: right;\n",
       "    }\n",
       "</style>\n",
       "<table border=\"1\" class=\"dataframe\">\n",
       "  <thead>\n",
       "    <tr style=\"text-align: right;\">\n",
       "      <th></th>\n",
       "      <th>Ouro</th>\n",
       "      <th>Prata</th>\n",
       "      <th>Bronze</th>\n",
       "    </tr>\n",
       "  </thead>\n",
       "  <tbody>\n",
       "    <tr>\n",
       "      <th>Inglaterra</th>\n",
       "      <td>27</td>\n",
       "      <td>23</td>\n",
       "      <td>17</td>\n",
       "    </tr>\n",
       "    <tr>\n",
       "      <th>Alemanha</th>\n",
       "      <td>19</td>\n",
       "      <td>18</td>\n",
       "      <td>19</td>\n",
       "    </tr>\n",
       "    <tr>\n",
       "      <th>Uruguai</th>\n",
       "      <td>17</td>\n",
       "      <td>10</td>\n",
       "      <td>15</td>\n",
       "    </tr>\n",
       "    <tr>\n",
       "      <th>Japão</th>\n",
       "      <td>14</td>\n",
       "      <td>17</td>\n",
       "      <td>18</td>\n",
       "    </tr>\n",
       "    <tr>\n",
       "      <th>Austrália</th>\n",
       "      <td>12</td>\n",
       "      <td>14</td>\n",
       "      <td>17</td>\n",
       "    </tr>\n",
       "    <tr>\n",
       "      <th>Noruega</th>\n",
       "      <td>10</td>\n",
       "      <td>12</td>\n",
       "      <td>14</td>\n",
       "    </tr>\n",
       "    <tr>\n",
       "      <th>Polônia</th>\n",
       "      <td>9</td>\n",
       "      <td>10</td>\n",
       "      <td>12</td>\n",
       "    </tr>\n",
       "    <tr>\n",
       "      <th>Rep. Tcheca</th>\n",
       "      <td>7</td>\n",
       "      <td>8</td>\n",
       "      <td>11</td>\n",
       "    </tr>\n",
       "    <tr>\n",
       "      <th>Suiça</th>\n",
       "      <td>7</td>\n",
       "      <td>7</td>\n",
       "      <td>9</td>\n",
       "    </tr>\n",
       "    <tr>\n",
       "      <th>Áustria</th>\n",
       "      <td>6</td>\n",
       "      <td>7</td>\n",
       "      <td>8</td>\n",
       "    </tr>\n",
       "  </tbody>\n",
       "</table>\n",
       "</div>"
      ],
      "text/plain": [
       "             Ouro  Prata  Bronze\n",
       "Inglaterra     27     23      17\n",
       "Alemanha       19     18      19\n",
       "Uruguai        17     10      15\n",
       "Japão          14     17      18\n",
       "Austrália      12     14      17\n",
       "Noruega        10     12      14\n",
       "Polônia         9     10      12\n",
       "Rep. Tcheca     7      8      11\n",
       "Suiça           7      7       9\n",
       "Áustria         6      7       8"
      ]
     },
     "execution_count": 45,
     "metadata": {},
     "output_type": "execute_result"
    }
   ],
   "source": [
    "# Visualizando todas as linhas a partir do índice 2 (índice 0 é o cabeçalho)\n",
    "df_olimpiada2[2:]"
   ]
  },
  {
   "cell_type": "code",
   "execution_count": 46,
   "id": "0232f2ee",
   "metadata": {},
   "outputs": [
    {
     "data": {
      "text/html": [
       "<div>\n",
       "<style scoped>\n",
       "    .dataframe tbody tr th:only-of-type {\n",
       "        vertical-align: middle;\n",
       "    }\n",
       "\n",
       "    .dataframe tbody tr th {\n",
       "        vertical-align: top;\n",
       "    }\n",
       "\n",
       "    .dataframe thead th {\n",
       "        text-align: right;\n",
       "    }\n",
       "</style>\n",
       "<table border=\"1\" class=\"dataframe\">\n",
       "  <thead>\n",
       "    <tr style=\"text-align: right;\">\n",
       "      <th></th>\n",
       "      <th>Ouro</th>\n",
       "      <th>Prata</th>\n",
       "      <th>Bronze</th>\n",
       "    </tr>\n",
       "  </thead>\n",
       "  <tbody>\n",
       "    <tr>\n",
       "      <th>EUA</th>\n",
       "      <td>46</td>\n",
       "      <td>37</td>\n",
       "      <td>38</td>\n",
       "    </tr>\n",
       "    <tr>\n",
       "      <th>Inglaterra</th>\n",
       "      <td>27</td>\n",
       "      <td>23</td>\n",
       "      <td>17</td>\n",
       "    </tr>\n",
       "    <tr>\n",
       "      <th>Uruguai</th>\n",
       "      <td>17</td>\n",
       "      <td>10</td>\n",
       "      <td>15</td>\n",
       "    </tr>\n",
       "    <tr>\n",
       "      <th>Austrália</th>\n",
       "      <td>12</td>\n",
       "      <td>14</td>\n",
       "      <td>17</td>\n",
       "    </tr>\n",
       "    <tr>\n",
       "      <th>Polônia</th>\n",
       "      <td>9</td>\n",
       "      <td>10</td>\n",
       "      <td>12</td>\n",
       "    </tr>\n",
       "    <tr>\n",
       "      <th>Suiça</th>\n",
       "      <td>7</td>\n",
       "      <td>7</td>\n",
       "      <td>9</td>\n",
       "    </tr>\n",
       "  </tbody>\n",
       "</table>\n",
       "</div>"
      ],
      "text/plain": [
       "            Ouro  Prata  Bronze\n",
       "EUA           46     37      38\n",
       "Inglaterra    27     23      17\n",
       "Uruguai       17     10      15\n",
       "Austrália     12     14      17\n",
       "Polônia        9     10      12\n",
       "Suiça          7      7       9"
      ]
     },
     "execution_count": 46,
     "metadata": {},
     "output_type": "execute_result"
    }
   ],
   "source": [
    "# Visualizando todas as linhas e todas as colunas saltando de 1 em 1 (índice 0 é o cabeçalho)\n",
    "df_olimpiada2[::2]"
   ]
  },
  {
   "cell_type": "code",
   "execution_count": 47,
   "id": "a546090f",
   "metadata": {},
   "outputs": [
    {
     "data": {
      "text/html": [
       "<div>\n",
       "<style scoped>\n",
       "    .dataframe tbody tr th:only-of-type {\n",
       "        vertical-align: middle;\n",
       "    }\n",
       "\n",
       "    .dataframe tbody tr th {\n",
       "        vertical-align: top;\n",
       "    }\n",
       "\n",
       "    .dataframe thead th {\n",
       "        text-align: right;\n",
       "    }\n",
       "</style>\n",
       "<table border=\"1\" class=\"dataframe\">\n",
       "  <thead>\n",
       "    <tr style=\"text-align: right;\">\n",
       "      <th></th>\n",
       "      <th>Ouro</th>\n",
       "      <th>Prata</th>\n",
       "      <th>Bronze</th>\n",
       "    </tr>\n",
       "  </thead>\n",
       "  <tbody>\n",
       "    <tr>\n",
       "      <th>EUA</th>\n",
       "      <td>46</td>\n",
       "      <td>37</td>\n",
       "      <td>38</td>\n",
       "    </tr>\n",
       "    <tr>\n",
       "      <th>Alemanha</th>\n",
       "      <td>19</td>\n",
       "      <td>18</td>\n",
       "      <td>19</td>\n",
       "    </tr>\n",
       "    <tr>\n",
       "      <th>Austrália</th>\n",
       "      <td>12</td>\n",
       "      <td>14</td>\n",
       "      <td>17</td>\n",
       "    </tr>\n",
       "    <tr>\n",
       "      <th>Rep. Tcheca</th>\n",
       "      <td>7</td>\n",
       "      <td>8</td>\n",
       "      <td>11</td>\n",
       "    </tr>\n",
       "  </tbody>\n",
       "</table>\n",
       "</div>"
      ],
      "text/plain": [
       "             Ouro  Prata  Bronze\n",
       "EUA            46     37      38\n",
       "Alemanha       19     18      19\n",
       "Austrália      12     14      17\n",
       "Rep. Tcheca     7      8      11"
      ]
     },
     "execution_count": 47,
     "metadata": {},
     "output_type": "execute_result"
    }
   ],
   "source": [
    "# Visualizando todas as linhas e todas as colunas saltando de 2 em 2 (índice 0 é o cabeçalho)\n",
    "df_olimpiada2[::3]"
   ]
  },
  {
   "cell_type": "code",
   "execution_count": 48,
   "id": "f77f09d3",
   "metadata": {},
   "outputs": [
    {
     "data": {
      "text/html": [
       "<div>\n",
       "<style scoped>\n",
       "    .dataframe tbody tr th:only-of-type {\n",
       "        vertical-align: middle;\n",
       "    }\n",
       "\n",
       "    .dataframe tbody tr th {\n",
       "        vertical-align: top;\n",
       "    }\n",
       "\n",
       "    .dataframe thead th {\n",
       "        text-align: right;\n",
       "    }\n",
       "</style>\n",
       "<table border=\"1\" class=\"dataframe\">\n",
       "  <thead>\n",
       "    <tr style=\"text-align: right;\">\n",
       "      <th></th>\n",
       "      <th>Ouro</th>\n",
       "      <th>Prata</th>\n",
       "      <th>Bronze</th>\n",
       "    </tr>\n",
       "  </thead>\n",
       "  <tbody>\n",
       "    <tr>\n",
       "      <th>Áustria</th>\n",
       "      <td>6</td>\n",
       "      <td>7</td>\n",
       "      <td>8</td>\n",
       "    </tr>\n",
       "    <tr>\n",
       "      <th>Rep. Tcheca</th>\n",
       "      <td>7</td>\n",
       "      <td>8</td>\n",
       "      <td>11</td>\n",
       "    </tr>\n",
       "    <tr>\n",
       "      <th>Noruega</th>\n",
       "      <td>10</td>\n",
       "      <td>12</td>\n",
       "      <td>14</td>\n",
       "    </tr>\n",
       "    <tr>\n",
       "      <th>Japão</th>\n",
       "      <td>14</td>\n",
       "      <td>17</td>\n",
       "      <td>18</td>\n",
       "    </tr>\n",
       "    <tr>\n",
       "      <th>Alemanha</th>\n",
       "      <td>19</td>\n",
       "      <td>18</td>\n",
       "      <td>19</td>\n",
       "    </tr>\n",
       "    <tr>\n",
       "      <th>China</th>\n",
       "      <td>26</td>\n",
       "      <td>18</td>\n",
       "      <td>26</td>\n",
       "    </tr>\n",
       "  </tbody>\n",
       "</table>\n",
       "</div>"
      ],
      "text/plain": [
       "             Ouro  Prata  Bronze\n",
       "Áustria         6      7       8\n",
       "Rep. Tcheca     7      8      11\n",
       "Noruega        10     12      14\n",
       "Japão          14     17      18\n",
       "Alemanha       19     18      19\n",
       "China          26     18      26"
      ]
     },
     "execution_count": 48,
     "metadata": {},
     "output_type": "execute_result"
    }
   ],
   "source": [
    "# Visualizando todas as linhas e todas as colunas de baixo para cima saltando de 2 em 2 (índice 0 é o cabeçalho)\n",
    "df_olimpiada2[::-2]"
   ]
  },
  {
   "cell_type": "code",
   "execution_count": 49,
   "id": "83995258",
   "metadata": {},
   "outputs": [
    {
     "data": {
      "text/html": [
       "<div>\n",
       "<style scoped>\n",
       "    .dataframe tbody tr th:only-of-type {\n",
       "        vertical-align: middle;\n",
       "    }\n",
       "\n",
       "    .dataframe tbody tr th {\n",
       "        vertical-align: top;\n",
       "    }\n",
       "\n",
       "    .dataframe thead th {\n",
       "        text-align: right;\n",
       "    }\n",
       "</style>\n",
       "<table border=\"1\" class=\"dataframe\">\n",
       "  <thead>\n",
       "    <tr style=\"text-align: right;\">\n",
       "      <th></th>\n",
       "      <th>Ouro</th>\n",
       "      <th>Prata</th>\n",
       "      <th>Bronze</th>\n",
       "    </tr>\n",
       "  </thead>\n",
       "  <tbody>\n",
       "    <tr>\n",
       "      <th>EUA</th>\n",
       "      <td>46</td>\n",
       "      <td>37</td>\n",
       "      <td>38</td>\n",
       "    </tr>\n",
       "    <tr>\n",
       "      <th>China</th>\n",
       "      <td>26</td>\n",
       "      <td>18</td>\n",
       "      <td>26</td>\n",
       "    </tr>\n",
       "    <tr>\n",
       "      <th>Inglaterra</th>\n",
       "      <td>27</td>\n",
       "      <td>23</td>\n",
       "      <td>17</td>\n",
       "    </tr>\n",
       "    <tr>\n",
       "      <th>Alemanha</th>\n",
       "      <td>19</td>\n",
       "      <td>18</td>\n",
       "      <td>19</td>\n",
       "    </tr>\n",
       "    <tr>\n",
       "      <th>Uruguai</th>\n",
       "      <td>17</td>\n",
       "      <td>10</td>\n",
       "      <td>15</td>\n",
       "    </tr>\n",
       "    <tr>\n",
       "      <th>Japão</th>\n",
       "      <td>14</td>\n",
       "      <td>17</td>\n",
       "      <td>18</td>\n",
       "    </tr>\n",
       "    <tr>\n",
       "      <th>Austrália</th>\n",
       "      <td>12</td>\n",
       "      <td>14</td>\n",
       "      <td>17</td>\n",
       "    </tr>\n",
       "    <tr>\n",
       "      <th>Noruega</th>\n",
       "      <td>10</td>\n",
       "      <td>12</td>\n",
       "      <td>14</td>\n",
       "    </tr>\n",
       "    <tr>\n",
       "      <th>Polônia</th>\n",
       "      <td>9</td>\n",
       "      <td>10</td>\n",
       "      <td>12</td>\n",
       "    </tr>\n",
       "    <tr>\n",
       "      <th>Rep. Tcheca</th>\n",
       "      <td>7</td>\n",
       "      <td>8</td>\n",
       "      <td>11</td>\n",
       "    </tr>\n",
       "    <tr>\n",
       "      <th>Suiça</th>\n",
       "      <td>7</td>\n",
       "      <td>7</td>\n",
       "      <td>9</td>\n",
       "    </tr>\n",
       "    <tr>\n",
       "      <th>Áustria</th>\n",
       "      <td>6</td>\n",
       "      <td>7</td>\n",
       "      <td>8</td>\n",
       "    </tr>\n",
       "  </tbody>\n",
       "</table>\n",
       "</div>"
      ],
      "text/plain": [
       "             Ouro  Prata  Bronze\n",
       "EUA            46     37      38\n",
       "China          26     18      26\n",
       "Inglaterra     27     23      17\n",
       "Alemanha       19     18      19\n",
       "Uruguai        17     10      15\n",
       "Japão          14     17      18\n",
       "Austrália      12     14      17\n",
       "Noruega        10     12      14\n",
       "Polônia         9     10      12\n",
       "Rep. Tcheca     7      8      11\n",
       "Suiça           7      7       9\n",
       "Áustria         6      7       8"
      ]
     },
     "execution_count": 49,
     "metadata": {},
     "output_type": "execute_result"
    }
   ],
   "source": [
    "# Visualizando todas as linhas e todas as colunas\n",
    "df_olimpiada2"
   ]
  },
  {
   "cell_type": "code",
   "execution_count": 53,
   "id": "4d6cc5c6",
   "metadata": {},
   "outputs": [
    {
     "data": {
      "text/plain": [
       "Ouro      17\n",
       "Prata     10\n",
       "Bronze    15\n",
       "Name: Uruguai, dtype: int64"
      ]
     },
     "execution_count": 53,
     "metadata": {},
     "output_type": "execute_result"
    }
   ],
   "source": [
    "# Utilizando Método loc para localizar linha com \"Uruguai\"\n",
    "df_olimpiada2.loc['Uruguai']"
   ]
  },
  {
   "cell_type": "code",
   "execution_count": 54,
   "id": "3066de36",
   "metadata": {},
   "outputs": [
    {
     "data": {
      "text/plain": [
       "EUA            37\n",
       "China          18\n",
       "Inglaterra     23\n",
       "Alemanha       18\n",
       "Uruguai        10\n",
       "Japão          17\n",
       "Austrália      14\n",
       "Noruega        12\n",
       "Polônia        10\n",
       "Rep. Tcheca     8\n",
       "Suiça           7\n",
       "Áustria         7\n",
       "Name: Prata, dtype: int64"
      ]
     },
     "execution_count": 54,
     "metadata": {},
     "output_type": "execute_result"
    }
   ],
   "source": [
    "# Utilizando Método loc para localizar coluna com \"Prata\"\n",
    "df_olimpiada2.loc[:, 'Prata']"
   ]
  },
  {
   "cell_type": "code",
   "execution_count": 56,
   "id": "3d04a759",
   "metadata": {},
   "outputs": [
    {
     "data": {
      "text/plain": [
       "12"
      ]
     },
     "execution_count": 56,
     "metadata": {},
     "output_type": "execute_result"
    }
   ],
   "source": [
    "# Utilizando Método loc para localizar linha com \"Noruega\" com coluna com \"Prata\"\n",
    "df_olimpiada2.loc['Noruega', 'Prata']"
   ]
  },
  {
   "cell_type": "code",
   "execution_count": 57,
   "id": "0b2503a5",
   "metadata": {},
   "outputs": [
    {
     "data": {
      "text/plain": [
       "12"
      ]
     },
     "execution_count": 57,
     "metadata": {},
     "output_type": "execute_result"
    }
   ],
   "source": [
    "# Utilizando Método loc para localizar linha com \"Noruega\" com coluna com \"Prata\"\n",
    "df_olimpiada2.loc['Noruega']['Prata']"
   ]
  },
  {
   "cell_type": "code",
   "execution_count": 61,
   "id": "6df1e51e",
   "metadata": {},
   "outputs": [
    {
     "data": {
      "text/html": [
       "<div>\n",
       "<style scoped>\n",
       "    .dataframe tbody tr th:only-of-type {\n",
       "        vertical-align: middle;\n",
       "    }\n",
       "\n",
       "    .dataframe tbody tr th {\n",
       "        vertical-align: top;\n",
       "    }\n",
       "\n",
       "    .dataframe thead th {\n",
       "        text-align: right;\n",
       "    }\n",
       "</style>\n",
       "<table border=\"1\" class=\"dataframe\">\n",
       "  <thead>\n",
       "    <tr style=\"text-align: right;\">\n",
       "      <th></th>\n",
       "      <th>EUA</th>\n",
       "      <th>China</th>\n",
       "      <th>Inglaterra</th>\n",
       "      <th>Alemanha</th>\n",
       "      <th>Uruguai</th>\n",
       "    </tr>\n",
       "  </thead>\n",
       "  <tbody>\n",
       "    <tr>\n",
       "      <th>Ouro</th>\n",
       "      <td>46</td>\n",
       "      <td>26</td>\n",
       "      <td>27</td>\n",
       "      <td>19</td>\n",
       "      <td>17</td>\n",
       "    </tr>\n",
       "    <tr>\n",
       "      <th>Prata</th>\n",
       "      <td>37</td>\n",
       "      <td>18</td>\n",
       "      <td>23</td>\n",
       "      <td>18</td>\n",
       "      <td>10</td>\n",
       "    </tr>\n",
       "    <tr>\n",
       "      <th>Bronze</th>\n",
       "      <td>38</td>\n",
       "      <td>26</td>\n",
       "      <td>17</td>\n",
       "      <td>19</td>\n",
       "      <td>15</td>\n",
       "    </tr>\n",
       "  </tbody>\n",
       "</table>\n",
       "</div>"
      ],
      "text/plain": [
       "        EUA  China  Inglaterra  Alemanha  Uruguai\n",
       "Ouro     46     26          27        19       17\n",
       "Prata    37     18          23        18       10\n",
       "Bronze   38     26          17        19       15"
      ]
     },
     "execution_count": 61,
     "metadata": {},
     "output_type": "execute_result"
    }
   ],
   "source": [
    "df_olimpiada"
   ]
  },
  {
   "cell_type": "code",
   "execution_count": 60,
   "id": "9c05b342",
   "metadata": {},
   "outputs": [
    {
     "data": {
      "text/plain": [
       "EUA            True\n",
       "China          True\n",
       "Inglaterra     True\n",
       "Alemanha      False\n",
       "Uruguai       False\n",
       "Name: Ouro, dtype: bool"
      ]
     },
     "execution_count": 60,
     "metadata": {},
     "output_type": "execute_result"
    }
   ],
   "source": [
    "# Utilizando Método loc para localizar linhas com países com valor acima de 20 para \"Ouro\" (retorna booleano)\n",
    "df_olimpiada.loc['Ouro'] > 20"
   ]
  },
  {
   "cell_type": "code",
   "execution_count": 58,
   "id": "15653f70",
   "metadata": {},
   "outputs": [
    {
     "data": {
      "text/html": [
       "<div>\n",
       "<style scoped>\n",
       "    .dataframe tbody tr th:only-of-type {\n",
       "        vertical-align: middle;\n",
       "    }\n",
       "\n",
       "    .dataframe tbody tr th {\n",
       "        vertical-align: top;\n",
       "    }\n",
       "\n",
       "    .dataframe thead th {\n",
       "        text-align: right;\n",
       "    }\n",
       "</style>\n",
       "<table border=\"1\" class=\"dataframe\">\n",
       "  <thead>\n",
       "    <tr style=\"text-align: right;\">\n",
       "      <th></th>\n",
       "      <th>Ouro</th>\n",
       "      <th>Prata</th>\n",
       "      <th>Bronze</th>\n",
       "    </tr>\n",
       "  </thead>\n",
       "  <tbody>\n",
       "    <tr>\n",
       "      <th>EUA</th>\n",
       "      <td>46</td>\n",
       "      <td>37</td>\n",
       "      <td>38</td>\n",
       "    </tr>\n",
       "    <tr>\n",
       "      <th>China</th>\n",
       "      <td>26</td>\n",
       "      <td>18</td>\n",
       "      <td>26</td>\n",
       "    </tr>\n",
       "    <tr>\n",
       "      <th>Inglaterra</th>\n",
       "      <td>27</td>\n",
       "      <td>23</td>\n",
       "      <td>17</td>\n",
       "    </tr>\n",
       "    <tr>\n",
       "      <th>Alemanha</th>\n",
       "      <td>19</td>\n",
       "      <td>18</td>\n",
       "      <td>19</td>\n",
       "    </tr>\n",
       "    <tr>\n",
       "      <th>Uruguai</th>\n",
       "      <td>17</td>\n",
       "      <td>10</td>\n",
       "      <td>15</td>\n",
       "    </tr>\n",
       "    <tr>\n",
       "      <th>Japão</th>\n",
       "      <td>14</td>\n",
       "      <td>17</td>\n",
       "      <td>18</td>\n",
       "    </tr>\n",
       "    <tr>\n",
       "      <th>Austrália</th>\n",
       "      <td>12</td>\n",
       "      <td>14</td>\n",
       "      <td>17</td>\n",
       "    </tr>\n",
       "    <tr>\n",
       "      <th>Noruega</th>\n",
       "      <td>10</td>\n",
       "      <td>12</td>\n",
       "      <td>14</td>\n",
       "    </tr>\n",
       "    <tr>\n",
       "      <th>Polônia</th>\n",
       "      <td>9</td>\n",
       "      <td>10</td>\n",
       "      <td>12</td>\n",
       "    </tr>\n",
       "    <tr>\n",
       "      <th>Rep. Tcheca</th>\n",
       "      <td>7</td>\n",
       "      <td>8</td>\n",
       "      <td>11</td>\n",
       "    </tr>\n",
       "    <tr>\n",
       "      <th>Suiça</th>\n",
       "      <td>7</td>\n",
       "      <td>7</td>\n",
       "      <td>9</td>\n",
       "    </tr>\n",
       "    <tr>\n",
       "      <th>Áustria</th>\n",
       "      <td>6</td>\n",
       "      <td>7</td>\n",
       "      <td>8</td>\n",
       "    </tr>\n",
       "  </tbody>\n",
       "</table>\n",
       "</div>"
      ],
      "text/plain": [
       "             Ouro  Prata  Bronze\n",
       "EUA            46     37      38\n",
       "China          26     18      26\n",
       "Inglaterra     27     23      17\n",
       "Alemanha       19     18      19\n",
       "Uruguai        17     10      15\n",
       "Japão          14     17      18\n",
       "Austrália      12     14      17\n",
       "Noruega        10     12      14\n",
       "Polônia         9     10      12\n",
       "Rep. Tcheca     7      8      11\n",
       "Suiça           7      7       9\n",
       "Áustria         6      7       8"
      ]
     },
     "execution_count": 58,
     "metadata": {},
     "output_type": "execute_result"
    }
   ],
   "source": [
    "df_olimpiada2"
   ]
  },
  {
   "cell_type": "code",
   "execution_count": 59,
   "id": "4608d989",
   "metadata": {},
   "outputs": [
    {
     "data": {
      "text/plain": [
       "EUA             True\n",
       "China           True\n",
       "Inglaterra      True\n",
       "Alemanha       False\n",
       "Uruguai        False\n",
       "Japão          False\n",
       "Austrália      False\n",
       "Noruega        False\n",
       "Polônia        False\n",
       "Rep. Tcheca    False\n",
       "Suiça          False\n",
       "Áustria        False\n",
       "Name: Ouro, dtype: bool"
      ]
     },
     "execution_count": 59,
     "metadata": {},
     "output_type": "execute_result"
    }
   ],
   "source": [
    "# Utilizando Método loc para localizar coluna com países com valor acima de 20 para \"Ouro\" (retorna booleano)\n",
    "df_olimpiada2.loc[:, 'Ouro'] > 20"
   ]
  },
  {
   "cell_type": "code",
   "execution_count": 73,
   "id": "f05ad5d0",
   "metadata": {},
   "outputs": [
    {
     "data": {
      "text/plain": [
       "EUA           46\n",
       "China         26\n",
       "Inglaterra    27\n",
       "Name: Ouro, dtype: int64"
      ]
     },
     "execution_count": 73,
     "metadata": {},
     "output_type": "execute_result"
    }
   ],
   "source": [
    "# Utilizando Método loc para localizar linhas com países com valor acima de 20 para \"Ouro\" (retorna números)\n",
    "df_olimpiada2.loc[df_olimpiada2['Ouro'] > 20]\n",
    "\n",
    "\n",
    "# df_olimpiada2[df_olimpiada2['Ouro'] > 20]"
   ]
  },
  {
   "cell_type": "code",
   "execution_count": 76,
   "id": "fd456911",
   "metadata": {},
   "outputs": [
    {
     "data": {
      "text/html": [
       "<div>\n",
       "<style scoped>\n",
       "    .dataframe tbody tr th:only-of-type {\n",
       "        vertical-align: middle;\n",
       "    }\n",
       "\n",
       "    .dataframe tbody tr th {\n",
       "        vertical-align: top;\n",
       "    }\n",
       "\n",
       "    .dataframe thead th {\n",
       "        text-align: right;\n",
       "    }\n",
       "</style>\n",
       "<table border=\"1\" class=\"dataframe\">\n",
       "  <thead>\n",
       "    <tr style=\"text-align: right;\">\n",
       "      <th></th>\n",
       "      <th>Ouro</th>\n",
       "      <th>Prata</th>\n",
       "      <th>Bronze</th>\n",
       "    </tr>\n",
       "  </thead>\n",
       "  <tbody>\n",
       "    <tr>\n",
       "      <th>EUA</th>\n",
       "      <td>46</td>\n",
       "      <td>37</td>\n",
       "      <td>38</td>\n",
       "    </tr>\n",
       "    <tr>\n",
       "      <th>China</th>\n",
       "      <td>26</td>\n",
       "      <td>18</td>\n",
       "      <td>26</td>\n",
       "    </tr>\n",
       "    <tr>\n",
       "      <th>Inglaterra</th>\n",
       "      <td>27</td>\n",
       "      <td>23</td>\n",
       "      <td>17</td>\n",
       "    </tr>\n",
       "    <tr>\n",
       "      <th>Alemanha</th>\n",
       "      <td>19</td>\n",
       "      <td>18</td>\n",
       "      <td>19</td>\n",
       "    </tr>\n",
       "    <tr>\n",
       "      <th>Uruguai</th>\n",
       "      <td>17</td>\n",
       "      <td>10</td>\n",
       "      <td>15</td>\n",
       "    </tr>\n",
       "    <tr>\n",
       "      <th>Japão</th>\n",
       "      <td>14</td>\n",
       "      <td>17</td>\n",
       "      <td>18</td>\n",
       "    </tr>\n",
       "    <tr>\n",
       "      <th>Austrália</th>\n",
       "      <td>12</td>\n",
       "      <td>14</td>\n",
       "      <td>17</td>\n",
       "    </tr>\n",
       "    <tr>\n",
       "      <th>Noruega</th>\n",
       "      <td>10</td>\n",
       "      <td>12</td>\n",
       "      <td>14</td>\n",
       "    </tr>\n",
       "    <tr>\n",
       "      <th>Polônia</th>\n",
       "      <td>9</td>\n",
       "      <td>10</td>\n",
       "      <td>12</td>\n",
       "    </tr>\n",
       "    <tr>\n",
       "      <th>Rep. Tcheca</th>\n",
       "      <td>7</td>\n",
       "      <td>8</td>\n",
       "      <td>11</td>\n",
       "    </tr>\n",
       "    <tr>\n",
       "      <th>Suiça</th>\n",
       "      <td>7</td>\n",
       "      <td>7</td>\n",
       "      <td>9</td>\n",
       "    </tr>\n",
       "    <tr>\n",
       "      <th>Áustria</th>\n",
       "      <td>6</td>\n",
       "      <td>7</td>\n",
       "      <td>8</td>\n",
       "    </tr>\n",
       "  </tbody>\n",
       "</table>\n",
       "</div>"
      ],
      "text/plain": [
       "             Ouro  Prata  Bronze\n",
       "EUA            46     37      38\n",
       "China          26     18      26\n",
       "Inglaterra     27     23      17\n",
       "Alemanha       19     18      19\n",
       "Uruguai        17     10      15\n",
       "Japão          14     17      18\n",
       "Austrália      12     14      17\n",
       "Noruega        10     12      14\n",
       "Polônia         9     10      12\n",
       "Rep. Tcheca     7      8      11\n",
       "Suiça           7      7       9\n",
       "Áustria         6      7       8"
      ]
     },
     "execution_count": 76,
     "metadata": {},
     "output_type": "execute_result"
    }
   ],
   "source": [
    "df_olimpiada2"
   ]
  },
  {
   "cell_type": "code",
   "execution_count": 77,
   "id": "b5eaa3b5",
   "metadata": {},
   "outputs": [
    {
     "data": {
      "text/plain": [
       "Ouro      46\n",
       "Prata     37\n",
       "Bronze    38\n",
       "Name: EUA, dtype: int64"
      ]
     },
     "execution_count": 77,
     "metadata": {},
     "output_type": "execute_result"
    }
   ],
   "source": [
    "# iloc para buscar a linha de índice 0\n",
    "df_olimpiada2.iloc[0]"
   ]
  },
  {
   "cell_type": "code",
   "execution_count": 78,
   "id": "2b0bc8ce",
   "metadata": {},
   "outputs": [
    {
     "data": {
      "text/plain": [
       "Ouro      27\n",
       "Prata     23\n",
       "Bronze    17\n",
       "Name: Inglaterra, dtype: int64"
      ]
     },
     "execution_count": 78,
     "metadata": {},
     "output_type": "execute_result"
    }
   ],
   "source": [
    "# iloc para buscar a linha de índice 2\n",
    "df_olimpiada2.iloc[2]"
   ]
  },
  {
   "cell_type": "code",
   "execution_count": 79,
   "id": "d66218ca",
   "metadata": {},
   "outputs": [
    {
     "data": {
      "text/html": [
       "<div>\n",
       "<style scoped>\n",
       "    .dataframe tbody tr th:only-of-type {\n",
       "        vertical-align: middle;\n",
       "    }\n",
       "\n",
       "    .dataframe tbody tr th {\n",
       "        vertical-align: top;\n",
       "    }\n",
       "\n",
       "    .dataframe thead th {\n",
       "        text-align: right;\n",
       "    }\n",
       "</style>\n",
       "<table border=\"1\" class=\"dataframe\">\n",
       "  <thead>\n",
       "    <tr style=\"text-align: right;\">\n",
       "      <th></th>\n",
       "      <th>Ouro</th>\n",
       "      <th>Prata</th>\n",
       "      <th>Bronze</th>\n",
       "    </tr>\n",
       "  </thead>\n",
       "  <tbody>\n",
       "    <tr>\n",
       "      <th>EUA</th>\n",
       "      <td>46</td>\n",
       "      <td>37</td>\n",
       "      <td>38</td>\n",
       "    </tr>\n",
       "    <tr>\n",
       "      <th>China</th>\n",
       "      <td>26</td>\n",
       "      <td>18</td>\n",
       "      <td>26</td>\n",
       "    </tr>\n",
       "  </tbody>\n",
       "</table>\n",
       "</div>"
      ],
      "text/plain": [
       "       Ouro  Prata  Bronze\n",
       "EUA      46     37      38\n",
       "China    26     18      26"
      ]
     },
     "execution_count": 79,
     "metadata": {},
     "output_type": "execute_result"
    }
   ],
   "source": [
    "# iloc para visualizar todas as linhas até o índice 2 (índice 0 é o cabeçalho)\n",
    "df_olimpiada2.iloc[: 2]"
   ]
  },
  {
   "cell_type": "code",
   "execution_count": 80,
   "id": "3813e790",
   "metadata": {},
   "outputs": [
    {
     "data": {
      "text/html": [
       "<div>\n",
       "<style scoped>\n",
       "    .dataframe tbody tr th:only-of-type {\n",
       "        vertical-align: middle;\n",
       "    }\n",
       "\n",
       "    .dataframe tbody tr th {\n",
       "        vertical-align: top;\n",
       "    }\n",
       "\n",
       "    .dataframe thead th {\n",
       "        text-align: right;\n",
       "    }\n",
       "</style>\n",
       "<table border=\"1\" class=\"dataframe\">\n",
       "  <thead>\n",
       "    <tr style=\"text-align: right;\">\n",
       "      <th></th>\n",
       "      <th>Ouro</th>\n",
       "      <th>Prata</th>\n",
       "      <th>Bronze</th>\n",
       "    </tr>\n",
       "  </thead>\n",
       "  <tbody>\n",
       "    <tr>\n",
       "      <th>EUA</th>\n",
       "      <td>46</td>\n",
       "      <td>37</td>\n",
       "      <td>38</td>\n",
       "    </tr>\n",
       "    <tr>\n",
       "      <th>China</th>\n",
       "      <td>26</td>\n",
       "      <td>18</td>\n",
       "      <td>26</td>\n",
       "    </tr>\n",
       "    <tr>\n",
       "      <th>Inglaterra</th>\n",
       "      <td>27</td>\n",
       "      <td>23</td>\n",
       "      <td>17</td>\n",
       "    </tr>\n",
       "    <tr>\n",
       "      <th>Alemanha</th>\n",
       "      <td>19</td>\n",
       "      <td>18</td>\n",
       "      <td>19</td>\n",
       "    </tr>\n",
       "  </tbody>\n",
       "</table>\n",
       "</div>"
      ],
      "text/plain": [
       "            Ouro  Prata  Bronze\n",
       "EUA           46     37      38\n",
       "China         26     18      26\n",
       "Inglaterra    27     23      17\n",
       "Alemanha      19     18      19"
      ]
     },
     "execution_count": 80,
     "metadata": {},
     "output_type": "execute_result"
    }
   ],
   "source": [
    "# iloc para visualizar todas as linhas até o índice 4 (índice 0 é o cabeçalho)\n",
    "df_olimpiada2.iloc[: 4]"
   ]
  },
  {
   "cell_type": "code",
   "execution_count": 81,
   "id": "bde7be8f",
   "metadata": {},
   "outputs": [
    {
     "data": {
      "text/plain": [
       "Ouro     27\n",
       "Prata    23\n",
       "Name: Inglaterra, dtype: int64"
      ]
     },
     "execution_count": 81,
     "metadata": {},
     "output_type": "execute_result"
    }
   ],
   "source": [
    "# iloc para visualizar todas as linhas até o índice 2 e colunas de 0 até 2\n",
    "df_olimpiada2.iloc[2,0:2]"
   ]
  },
  {
   "cell_type": "code",
   "execution_count": 85,
   "id": "3110980f",
   "metadata": {},
   "outputs": [
    {
     "data": {
      "text/html": [
       "<div>\n",
       "<style scoped>\n",
       "    .dataframe tbody tr th:only-of-type {\n",
       "        vertical-align: middle;\n",
       "    }\n",
       "\n",
       "    .dataframe tbody tr th {\n",
       "        vertical-align: top;\n",
       "    }\n",
       "\n",
       "    .dataframe thead th {\n",
       "        text-align: right;\n",
       "    }\n",
       "</style>\n",
       "<table border=\"1\" class=\"dataframe\">\n",
       "  <thead>\n",
       "    <tr style=\"text-align: right;\">\n",
       "      <th></th>\n",
       "      <th>Ouro</th>\n",
       "      <th>Prata</th>\n",
       "      <th>Bronze</th>\n",
       "    </tr>\n",
       "  </thead>\n",
       "  <tbody>\n",
       "    <tr>\n",
       "      <th>Inglaterra</th>\n",
       "      <td>27</td>\n",
       "      <td>23</td>\n",
       "      <td>17</td>\n",
       "    </tr>\n",
       "    <tr>\n",
       "      <th>Alemanha</th>\n",
       "      <td>19</td>\n",
       "      <td>18</td>\n",
       "      <td>19</td>\n",
       "    </tr>\n",
       "  </tbody>\n",
       "</table>\n",
       "</div>"
      ],
      "text/plain": [
       "            Ouro  Prata  Bronze\n",
       "Inglaterra    27     23      17\n",
       "Alemanha      19     18      19"
      ]
     },
     "execution_count": 85,
     "metadata": {},
     "output_type": "execute_result"
    }
   ],
   "source": [
    "# iloc para visualizar todas as linhas entre índice 2 até antes do 4 e todas as colunas\n",
    "df_olimpiada2.iloc[2:4, :]"
   ]
  },
  {
   "cell_type": "code",
   "execution_count": 88,
   "id": "d6a1265e",
   "metadata": {},
   "outputs": [
    {
     "data": {
      "text/plain": [
       "Ouro      19\n",
       "Prata     18\n",
       "Bronze    19\n",
       "Name: Alemanha, dtype: int64"
      ]
     },
     "execution_count": 88,
     "metadata": {},
     "output_type": "execute_result"
    }
   ],
   "source": [
    "# iloc para visualizar a linha de índice 3 e todas as colunas\n",
    "df_olimpiada2.iloc[3,:]"
   ]
  },
  {
   "cell_type": "code",
   "execution_count": 89,
   "id": "ede32897",
   "metadata": {},
   "outputs": [
    {
     "data": {
      "text/plain": [
       "27"
      ]
     },
     "execution_count": 89,
     "metadata": {},
     "output_type": "execute_result"
    }
   ],
   "source": [
    "# iloc para visualizar a linha de índice 2 e coluna 0\n",
    "df_olimpiada2.iloc[2, 0]"
   ]
  },
  {
   "cell_type": "code",
   "execution_count": 91,
   "id": "15e1b929",
   "metadata": {},
   "outputs": [
    {
     "data": {
      "text/plain": [
       "23"
      ]
     },
     "execution_count": 91,
     "metadata": {},
     "output_type": "execute_result"
    }
   ],
   "source": [
    "# iloc para visualizar a linha de índice 2 e coluna 1\n",
    "df_olimpiada2.iloc[2, 1]"
   ]
  },
  {
   "cell_type": "markdown",
   "id": "5371f4a3",
   "metadata": {},
   "source": [
    "#### Deletando partes de um dataframe"
   ]
  },
  {
   "cell_type": "code",
   "execution_count": 92,
   "id": "2619d365",
   "metadata": {},
   "outputs": [
    {
     "data": {
      "text/html": [
       "<div>\n",
       "<style scoped>\n",
       "    .dataframe tbody tr th:only-of-type {\n",
       "        vertical-align: middle;\n",
       "    }\n",
       "\n",
       "    .dataframe tbody tr th {\n",
       "        vertical-align: top;\n",
       "    }\n",
       "\n",
       "    .dataframe thead th {\n",
       "        text-align: right;\n",
       "    }\n",
       "</style>\n",
       "<table border=\"1\" class=\"dataframe\">\n",
       "  <thead>\n",
       "    <tr style=\"text-align: right;\">\n",
       "      <th></th>\n",
       "      <th>Ouro</th>\n",
       "      <th>Prata</th>\n",
       "      <th>Bronze</th>\n",
       "    </tr>\n",
       "  </thead>\n",
       "  <tbody>\n",
       "    <tr>\n",
       "      <th>EUA</th>\n",
       "      <td>46</td>\n",
       "      <td>37</td>\n",
       "      <td>38</td>\n",
       "    </tr>\n",
       "    <tr>\n",
       "      <th>China</th>\n",
       "      <td>26</td>\n",
       "      <td>18</td>\n",
       "      <td>26</td>\n",
       "    </tr>\n",
       "    <tr>\n",
       "      <th>Inglaterra</th>\n",
       "      <td>27</td>\n",
       "      <td>23</td>\n",
       "      <td>17</td>\n",
       "    </tr>\n",
       "    <tr>\n",
       "      <th>Alemanha</th>\n",
       "      <td>19</td>\n",
       "      <td>18</td>\n",
       "      <td>19</td>\n",
       "    </tr>\n",
       "    <tr>\n",
       "      <th>Uruguai</th>\n",
       "      <td>17</td>\n",
       "      <td>10</td>\n",
       "      <td>15</td>\n",
       "    </tr>\n",
       "    <tr>\n",
       "      <th>Japão</th>\n",
       "      <td>14</td>\n",
       "      <td>17</td>\n",
       "      <td>18</td>\n",
       "    </tr>\n",
       "    <tr>\n",
       "      <th>Austrália</th>\n",
       "      <td>12</td>\n",
       "      <td>14</td>\n",
       "      <td>17</td>\n",
       "    </tr>\n",
       "    <tr>\n",
       "      <th>Noruega</th>\n",
       "      <td>10</td>\n",
       "      <td>12</td>\n",
       "      <td>14</td>\n",
       "    </tr>\n",
       "    <tr>\n",
       "      <th>Polônia</th>\n",
       "      <td>9</td>\n",
       "      <td>10</td>\n",
       "      <td>12</td>\n",
       "    </tr>\n",
       "    <tr>\n",
       "      <th>Rep. Tcheca</th>\n",
       "      <td>7</td>\n",
       "      <td>8</td>\n",
       "      <td>11</td>\n",
       "    </tr>\n",
       "    <tr>\n",
       "      <th>Suiça</th>\n",
       "      <td>7</td>\n",
       "      <td>7</td>\n",
       "      <td>9</td>\n",
       "    </tr>\n",
       "    <tr>\n",
       "      <th>Áustria</th>\n",
       "      <td>6</td>\n",
       "      <td>7</td>\n",
       "      <td>8</td>\n",
       "    </tr>\n",
       "  </tbody>\n",
       "</table>\n",
       "</div>"
      ],
      "text/plain": [
       "             Ouro  Prata  Bronze\n",
       "EUA            46     37      38\n",
       "China          26     18      26\n",
       "Inglaterra     27     23      17\n",
       "Alemanha       19     18      19\n",
       "Uruguai        17     10      15\n",
       "Japão          14     17      18\n",
       "Austrália      12     14      17\n",
       "Noruega        10     12      14\n",
       "Polônia         9     10      12\n",
       "Rep. Tcheca     7      8      11\n",
       "Suiça           7      7       9\n",
       "Áustria         6      7       8"
      ]
     },
     "execution_count": 92,
     "metadata": {},
     "output_type": "execute_result"
    }
   ],
   "source": [
    "df_olimpiada2"
   ]
  },
  {
   "cell_type": "code",
   "execution_count": 94,
   "id": "2862c7c4",
   "metadata": {},
   "outputs": [],
   "source": [
    "# Removendo linha de índice 'Noruega'\n",
    "df_olimpiada2.drop('Noruega', inplace=True)"
   ]
  },
  {
   "cell_type": "code",
   "execution_count": 95,
   "id": "b920e7fb",
   "metadata": {},
   "outputs": [
    {
     "data": {
      "text/html": [
       "<div>\n",
       "<style scoped>\n",
       "    .dataframe tbody tr th:only-of-type {\n",
       "        vertical-align: middle;\n",
       "    }\n",
       "\n",
       "    .dataframe tbody tr th {\n",
       "        vertical-align: top;\n",
       "    }\n",
       "\n",
       "    .dataframe thead th {\n",
       "        text-align: right;\n",
       "    }\n",
       "</style>\n",
       "<table border=\"1\" class=\"dataframe\">\n",
       "  <thead>\n",
       "    <tr style=\"text-align: right;\">\n",
       "      <th></th>\n",
       "      <th>Ouro</th>\n",
       "      <th>Prata</th>\n",
       "      <th>Bronze</th>\n",
       "    </tr>\n",
       "  </thead>\n",
       "  <tbody>\n",
       "    <tr>\n",
       "      <th>EUA</th>\n",
       "      <td>46</td>\n",
       "      <td>37</td>\n",
       "      <td>38</td>\n",
       "    </tr>\n",
       "    <tr>\n",
       "      <th>China</th>\n",
       "      <td>26</td>\n",
       "      <td>18</td>\n",
       "      <td>26</td>\n",
       "    </tr>\n",
       "    <tr>\n",
       "      <th>Inglaterra</th>\n",
       "      <td>27</td>\n",
       "      <td>23</td>\n",
       "      <td>17</td>\n",
       "    </tr>\n",
       "    <tr>\n",
       "      <th>Alemanha</th>\n",
       "      <td>19</td>\n",
       "      <td>18</td>\n",
       "      <td>19</td>\n",
       "    </tr>\n",
       "    <tr>\n",
       "      <th>Uruguai</th>\n",
       "      <td>17</td>\n",
       "      <td>10</td>\n",
       "      <td>15</td>\n",
       "    </tr>\n",
       "    <tr>\n",
       "      <th>Japão</th>\n",
       "      <td>14</td>\n",
       "      <td>17</td>\n",
       "      <td>18</td>\n",
       "    </tr>\n",
       "    <tr>\n",
       "      <th>Austrália</th>\n",
       "      <td>12</td>\n",
       "      <td>14</td>\n",
       "      <td>17</td>\n",
       "    </tr>\n",
       "    <tr>\n",
       "      <th>Polônia</th>\n",
       "      <td>9</td>\n",
       "      <td>10</td>\n",
       "      <td>12</td>\n",
       "    </tr>\n",
       "    <tr>\n",
       "      <th>Rep. Tcheca</th>\n",
       "      <td>7</td>\n",
       "      <td>8</td>\n",
       "      <td>11</td>\n",
       "    </tr>\n",
       "    <tr>\n",
       "      <th>Suiça</th>\n",
       "      <td>7</td>\n",
       "      <td>7</td>\n",
       "      <td>9</td>\n",
       "    </tr>\n",
       "    <tr>\n",
       "      <th>Áustria</th>\n",
       "      <td>6</td>\n",
       "      <td>7</td>\n",
       "      <td>8</td>\n",
       "    </tr>\n",
       "  </tbody>\n",
       "</table>\n",
       "</div>"
      ],
      "text/plain": [
       "             Ouro  Prata  Bronze\n",
       "EUA            46     37      38\n",
       "China          26     18      26\n",
       "Inglaterra     27     23      17\n",
       "Alemanha       19     18      19\n",
       "Uruguai        17     10      15\n",
       "Japão          14     17      18\n",
       "Austrália      12     14      17\n",
       "Polônia         9     10      12\n",
       "Rep. Tcheca     7      8      11\n",
       "Suiça           7      7       9\n",
       "Áustria         6      7       8"
      ]
     },
     "execution_count": 95,
     "metadata": {},
     "output_type": "execute_result"
    }
   ],
   "source": [
    "df_olimpiada2"
   ]
  },
  {
   "cell_type": "code",
   "execution_count": 97,
   "id": "e9369a7c",
   "metadata": {},
   "outputs": [],
   "source": [
    "# Inserindo nova linha\n",
    "df_olimpiada2.loc['Paraguai'] = [5, 3, 2]"
   ]
  },
  {
   "cell_type": "code",
   "execution_count": 98,
   "id": "09f250a5",
   "metadata": {},
   "outputs": [
    {
     "data": {
      "text/html": [
       "<div>\n",
       "<style scoped>\n",
       "    .dataframe tbody tr th:only-of-type {\n",
       "        vertical-align: middle;\n",
       "    }\n",
       "\n",
       "    .dataframe tbody tr th {\n",
       "        vertical-align: top;\n",
       "    }\n",
       "\n",
       "    .dataframe thead th {\n",
       "        text-align: right;\n",
       "    }\n",
       "</style>\n",
       "<table border=\"1\" class=\"dataframe\">\n",
       "  <thead>\n",
       "    <tr style=\"text-align: right;\">\n",
       "      <th></th>\n",
       "      <th>Ouro</th>\n",
       "      <th>Prata</th>\n",
       "      <th>Bronze</th>\n",
       "    </tr>\n",
       "  </thead>\n",
       "  <tbody>\n",
       "    <tr>\n",
       "      <th>EUA</th>\n",
       "      <td>46</td>\n",
       "      <td>37</td>\n",
       "      <td>38</td>\n",
       "    </tr>\n",
       "    <tr>\n",
       "      <th>China</th>\n",
       "      <td>26</td>\n",
       "      <td>18</td>\n",
       "      <td>26</td>\n",
       "    </tr>\n",
       "    <tr>\n",
       "      <th>Inglaterra</th>\n",
       "      <td>27</td>\n",
       "      <td>23</td>\n",
       "      <td>17</td>\n",
       "    </tr>\n",
       "    <tr>\n",
       "      <th>Alemanha</th>\n",
       "      <td>19</td>\n",
       "      <td>18</td>\n",
       "      <td>19</td>\n",
       "    </tr>\n",
       "    <tr>\n",
       "      <th>Uruguai</th>\n",
       "      <td>17</td>\n",
       "      <td>10</td>\n",
       "      <td>15</td>\n",
       "    </tr>\n",
       "    <tr>\n",
       "      <th>Japão</th>\n",
       "      <td>14</td>\n",
       "      <td>17</td>\n",
       "      <td>18</td>\n",
       "    </tr>\n",
       "    <tr>\n",
       "      <th>Austrália</th>\n",
       "      <td>12</td>\n",
       "      <td>14</td>\n",
       "      <td>17</td>\n",
       "    </tr>\n",
       "    <tr>\n",
       "      <th>Polônia</th>\n",
       "      <td>9</td>\n",
       "      <td>10</td>\n",
       "      <td>12</td>\n",
       "    </tr>\n",
       "    <tr>\n",
       "      <th>Rep. Tcheca</th>\n",
       "      <td>7</td>\n",
       "      <td>8</td>\n",
       "      <td>11</td>\n",
       "    </tr>\n",
       "    <tr>\n",
       "      <th>Suiça</th>\n",
       "      <td>7</td>\n",
       "      <td>7</td>\n",
       "      <td>9</td>\n",
       "    </tr>\n",
       "    <tr>\n",
       "      <th>Áustria</th>\n",
       "      <td>6</td>\n",
       "      <td>7</td>\n",
       "      <td>8</td>\n",
       "    </tr>\n",
       "    <tr>\n",
       "      <th>Paraguai</th>\n",
       "      <td>5</td>\n",
       "      <td>3</td>\n",
       "      <td>2</td>\n",
       "    </tr>\n",
       "  </tbody>\n",
       "</table>\n",
       "</div>"
      ],
      "text/plain": [
       "             Ouro  Prata  Bronze\n",
       "EUA            46     37      38\n",
       "China          26     18      26\n",
       "Inglaterra     27     23      17\n",
       "Alemanha       19     18      19\n",
       "Uruguai        17     10      15\n",
       "Japão          14     17      18\n",
       "Austrália      12     14      17\n",
       "Polônia         9     10      12\n",
       "Rep. Tcheca     7      8      11\n",
       "Suiça           7      7       9\n",
       "Áustria         6      7       8\n",
       "Paraguai        5      3       2"
      ]
     },
     "execution_count": 98,
     "metadata": {},
     "output_type": "execute_result"
    }
   ],
   "source": [
    "df_olimpiada2"
   ]
  },
  {
   "cell_type": "code",
   "execution_count": 99,
   "id": "3c73bd7d",
   "metadata": {},
   "outputs": [],
   "source": [
    "# Inserindo nova coluna\n",
    "df_olimpiada2['Penalidades'] = 0"
   ]
  },
  {
   "cell_type": "code",
   "execution_count": 100,
   "id": "b909aa95",
   "metadata": {},
   "outputs": [
    {
     "data": {
      "text/html": [
       "<div>\n",
       "<style scoped>\n",
       "    .dataframe tbody tr th:only-of-type {\n",
       "        vertical-align: middle;\n",
       "    }\n",
       "\n",
       "    .dataframe tbody tr th {\n",
       "        vertical-align: top;\n",
       "    }\n",
       "\n",
       "    .dataframe thead th {\n",
       "        text-align: right;\n",
       "    }\n",
       "</style>\n",
       "<table border=\"1\" class=\"dataframe\">\n",
       "  <thead>\n",
       "    <tr style=\"text-align: right;\">\n",
       "      <th></th>\n",
       "      <th>Ouro</th>\n",
       "      <th>Prata</th>\n",
       "      <th>Bronze</th>\n",
       "      <th>Penalidades</th>\n",
       "    </tr>\n",
       "  </thead>\n",
       "  <tbody>\n",
       "    <tr>\n",
       "      <th>EUA</th>\n",
       "      <td>46</td>\n",
       "      <td>37</td>\n",
       "      <td>38</td>\n",
       "      <td>0</td>\n",
       "    </tr>\n",
       "    <tr>\n",
       "      <th>China</th>\n",
       "      <td>26</td>\n",
       "      <td>18</td>\n",
       "      <td>26</td>\n",
       "      <td>0</td>\n",
       "    </tr>\n",
       "    <tr>\n",
       "      <th>Inglaterra</th>\n",
       "      <td>27</td>\n",
       "      <td>23</td>\n",
       "      <td>17</td>\n",
       "      <td>0</td>\n",
       "    </tr>\n",
       "    <tr>\n",
       "      <th>Alemanha</th>\n",
       "      <td>19</td>\n",
       "      <td>18</td>\n",
       "      <td>19</td>\n",
       "      <td>0</td>\n",
       "    </tr>\n",
       "    <tr>\n",
       "      <th>Uruguai</th>\n",
       "      <td>17</td>\n",
       "      <td>10</td>\n",
       "      <td>15</td>\n",
       "      <td>0</td>\n",
       "    </tr>\n",
       "    <tr>\n",
       "      <th>Japão</th>\n",
       "      <td>14</td>\n",
       "      <td>17</td>\n",
       "      <td>18</td>\n",
       "      <td>0</td>\n",
       "    </tr>\n",
       "    <tr>\n",
       "      <th>Austrália</th>\n",
       "      <td>12</td>\n",
       "      <td>14</td>\n",
       "      <td>17</td>\n",
       "      <td>0</td>\n",
       "    </tr>\n",
       "    <tr>\n",
       "      <th>Polônia</th>\n",
       "      <td>9</td>\n",
       "      <td>10</td>\n",
       "      <td>12</td>\n",
       "      <td>0</td>\n",
       "    </tr>\n",
       "    <tr>\n",
       "      <th>Rep. Tcheca</th>\n",
       "      <td>7</td>\n",
       "      <td>8</td>\n",
       "      <td>11</td>\n",
       "      <td>0</td>\n",
       "    </tr>\n",
       "    <tr>\n",
       "      <th>Suiça</th>\n",
       "      <td>7</td>\n",
       "      <td>7</td>\n",
       "      <td>9</td>\n",
       "      <td>0</td>\n",
       "    </tr>\n",
       "    <tr>\n",
       "      <th>Áustria</th>\n",
       "      <td>6</td>\n",
       "      <td>7</td>\n",
       "      <td>8</td>\n",
       "      <td>0</td>\n",
       "    </tr>\n",
       "    <tr>\n",
       "      <th>Paraguai</th>\n",
       "      <td>5</td>\n",
       "      <td>3</td>\n",
       "      <td>2</td>\n",
       "      <td>0</td>\n",
       "    </tr>\n",
       "  </tbody>\n",
       "</table>\n",
       "</div>"
      ],
      "text/plain": [
       "             Ouro  Prata  Bronze  Penalidades\n",
       "EUA            46     37      38            0\n",
       "China          26     18      26            0\n",
       "Inglaterra     27     23      17            0\n",
       "Alemanha       19     18      19            0\n",
       "Uruguai        17     10      15            0\n",
       "Japão          14     17      18            0\n",
       "Austrália      12     14      17            0\n",
       "Polônia         9     10      12            0\n",
       "Rep. Tcheca     7      8      11            0\n",
       "Suiça           7      7       9            0\n",
       "Áustria         6      7       8            0\n",
       "Paraguai        5      3       2            0"
      ]
     },
     "execution_count": 100,
     "metadata": {},
     "output_type": "execute_result"
    }
   ],
   "source": [
    "df_olimpiada2"
   ]
  },
  {
   "cell_type": "code",
   "execution_count": 101,
   "id": "d835fc27",
   "metadata": {},
   "outputs": [
    {
     "data": {
      "text/html": [
       "<div>\n",
       "<style scoped>\n",
       "    .dataframe tbody tr th:only-of-type {\n",
       "        vertical-align: middle;\n",
       "    }\n",
       "\n",
       "    .dataframe tbody tr th {\n",
       "        vertical-align: top;\n",
       "    }\n",
       "\n",
       "    .dataframe thead th {\n",
       "        text-align: right;\n",
       "    }\n",
       "</style>\n",
       "<table border=\"1\" class=\"dataframe\">\n",
       "  <thead>\n",
       "    <tr style=\"text-align: right;\">\n",
       "      <th></th>\n",
       "      <th>Ouro</th>\n",
       "      <th>Prata</th>\n",
       "      <th>Bronze</th>\n",
       "      <th>Penalidades</th>\n",
       "    </tr>\n",
       "  </thead>\n",
       "  <tbody>\n",
       "    <tr>\n",
       "      <th>count</th>\n",
       "      <td>12.000000</td>\n",
       "      <td>12.000000</td>\n",
       "      <td>12.000000</td>\n",
       "      <td>12.0</td>\n",
       "    </tr>\n",
       "    <tr>\n",
       "      <th>mean</th>\n",
       "      <td>16.250000</td>\n",
       "      <td>14.333333</td>\n",
       "      <td>16.000000</td>\n",
       "      <td>0.0</td>\n",
       "    </tr>\n",
       "    <tr>\n",
       "      <th>std</th>\n",
       "      <td>11.993369</td>\n",
       "      <td>9.227758</td>\n",
       "      <td>9.293204</td>\n",
       "      <td>0.0</td>\n",
       "    </tr>\n",
       "    <tr>\n",
       "      <th>min</th>\n",
       "      <td>5.000000</td>\n",
       "      <td>3.000000</td>\n",
       "      <td>2.000000</td>\n",
       "      <td>0.0</td>\n",
       "    </tr>\n",
       "    <tr>\n",
       "      <th>25%</th>\n",
       "      <td>7.000000</td>\n",
       "      <td>7.750000</td>\n",
       "      <td>10.500000</td>\n",
       "      <td>0.0</td>\n",
       "    </tr>\n",
       "    <tr>\n",
       "      <th>50%</th>\n",
       "      <td>13.000000</td>\n",
       "      <td>12.000000</td>\n",
       "      <td>16.000000</td>\n",
       "      <td>0.0</td>\n",
       "    </tr>\n",
       "    <tr>\n",
       "      <th>75%</th>\n",
       "      <td>20.750000</td>\n",
       "      <td>18.000000</td>\n",
       "      <td>18.250000</td>\n",
       "      <td>0.0</td>\n",
       "    </tr>\n",
       "    <tr>\n",
       "      <th>max</th>\n",
       "      <td>46.000000</td>\n",
       "      <td>37.000000</td>\n",
       "      <td>38.000000</td>\n",
       "      <td>0.0</td>\n",
       "    </tr>\n",
       "  </tbody>\n",
       "</table>\n",
       "</div>"
      ],
      "text/plain": [
       "            Ouro      Prata     Bronze  Penalidades\n",
       "count  12.000000  12.000000  12.000000         12.0\n",
       "mean   16.250000  14.333333  16.000000          0.0\n",
       "std    11.993369   9.227758   9.293204          0.0\n",
       "min     5.000000   3.000000   2.000000          0.0\n",
       "25%     7.000000   7.750000  10.500000          0.0\n",
       "50%    13.000000  12.000000  16.000000          0.0\n",
       "75%    20.750000  18.000000  18.250000          0.0\n",
       "max    46.000000  37.000000  38.000000          0.0"
      ]
     },
     "execution_count": 101,
     "metadata": {},
     "output_type": "execute_result"
    }
   ],
   "source": [
    "df_olimpiada2.describe()"
   ]
  },
  {
   "cell_type": "markdown",
   "id": "772c9eb7",
   "metadata": {},
   "source": [
    "## Fim"
   ]
  }
 ],
 "metadata": {
  "kernelspec": {
   "display_name": "Python 3 (ipykernel)",
   "language": "python",
   "name": "python3"
  },
  "language_info": {
   "codemirror_mode": {
    "name": "ipython",
    "version": 3
   },
   "file_extension": ".py",
   "mimetype": "text/x-python",
   "name": "python",
   "nbconvert_exporter": "python",
   "pygments_lexer": "ipython3",
   "version": "3.9.7"
  }
 },
 "nbformat": 4,
 "nbformat_minor": 5
}
