{
 "cells": [
  {
   "cell_type": "markdown",
   "id": "18db7f24",
   "metadata": {},
   "source": [
    "## <font color='blue'>Capítulo 3 - Manipulação de Dados em Python com Pandas</font>"
   ]
  },
  {
   "cell_type": "markdown",
   "id": "8fd7cab4",
   "metadata": {
    "tags": []
   },
   "source": [
    "#### Importando o pacote Pandas"
   ]
  },
  {
   "cell_type": "code",
   "execution_count": 1,
   "id": "f3358322",
   "metadata": {},
   "outputs": [],
   "source": [
    "# Importando o módulo Pandas e NumPy\n",
    "import numpy as np\n",
    "import pandas as pd"
   ]
  },
  {
   "cell_type": "markdown",
   "id": "65dfc513",
   "metadata": {},
   "source": [
    "## Operações com Séries "
   ]
  },
  {
   "cell_type": "code",
   "execution_count": 2,
   "id": "25740372",
   "metadata": {},
   "outputs": [
    {
     "data": {
      "text/plain": [
       "[[9, 4, 3], [2, 6, 1], [7, 5, 8]]"
      ]
     },
     "execution_count": 2,
     "metadata": {},
     "output_type": "execute_result"
    }
   ],
   "source": [
    "# Criando e Visualizando Lista de Matriz\n",
    "\n",
    "matriz = [[9, 4, 3], [2, 6, 1], [7, 5, 8]]\n",
    "\n",
    "matriz"
   ]
  },
  {
   "cell_type": "code",
   "execution_count": 3,
   "id": "86face4c",
   "metadata": {},
   "outputs": [
    {
     "data": {
      "text/plain": [
       "pandas.core.frame.DataFrame"
      ]
     },
     "execution_count": 3,
     "metadata": {},
     "output_type": "execute_result"
    }
   ],
   "source": [
    "# Converte a matriz em dataframe e verifica o tipo\n",
    "df = pd.DataFrame(matriz)\n",
    "\n",
    "# Tipo do objeto\n",
    "type(df)"
   ]
  },
  {
   "cell_type": "code",
   "execution_count": 4,
   "id": "b3d3f9b5",
   "metadata": {},
   "outputs": [
    {
     "data": {
      "text/html": [
       "<div>\n",
       "<style scoped>\n",
       "    .dataframe tbody tr th:only-of-type {\n",
       "        vertical-align: middle;\n",
       "    }\n",
       "\n",
       "    .dataframe tbody tr th {\n",
       "        vertical-align: top;\n",
       "    }\n",
       "\n",
       "    .dataframe thead th {\n",
       "        text-align: right;\n",
       "    }\n",
       "</style>\n",
       "<table border=\"1\" class=\"dataframe\">\n",
       "  <thead>\n",
       "    <tr style=\"text-align: right;\">\n",
       "      <th></th>\n",
       "      <th>0</th>\n",
       "      <th>1</th>\n",
       "      <th>2</th>\n",
       "    </tr>\n",
       "  </thead>\n",
       "  <tbody>\n",
       "    <tr>\n",
       "      <th>0</th>\n",
       "      <td>9</td>\n",
       "      <td>4</td>\n",
       "      <td>3</td>\n",
       "    </tr>\n",
       "    <tr>\n",
       "      <th>1</th>\n",
       "      <td>2</td>\n",
       "      <td>6</td>\n",
       "      <td>1</td>\n",
       "    </tr>\n",
       "    <tr>\n",
       "      <th>2</th>\n",
       "      <td>7</td>\n",
       "      <td>5</td>\n",
       "      <td>8</td>\n",
       "    </tr>\n",
       "  </tbody>\n",
       "</table>\n",
       "</div>"
      ],
      "text/plain": [
       "   0  1  2\n",
       "0  9  4  3\n",
       "1  2  6  1\n",
       "2  7  5  8"
      ]
     },
     "execution_count": 4,
     "metadata": {},
     "output_type": "execute_result"
    }
   ],
   "source": [
    "# Visualiza\n",
    "df"
   ]
  },
  {
   "cell_type": "code",
   "execution_count": 5,
   "id": "0a7f0ec4",
   "metadata": {},
   "outputs": [
    {
     "data": {
      "text/plain": [
       "0    9\n",
       "1    4\n",
       "2    3\n",
       "Name: 0, dtype: int64"
      ]
     },
     "execution_count": 5,
     "metadata": {},
     "output_type": "execute_result"
    }
   ],
   "source": [
    "# Extrai a linha de índice 0\n",
    "linha = df.iloc[0, :]\n",
    "\n",
    "linha"
   ]
  },
  {
   "cell_type": "markdown",
   "id": "d8148fdb",
   "metadata": {},
   "source": [
    "#### Uma linha do dataframe é uma série no Pandas"
   ]
  },
  {
   "cell_type": "code",
   "execution_count": 6,
   "id": "e5ada079",
   "metadata": {},
   "outputs": [
    {
     "data": {
      "text/plain": [
       "pandas.core.series.Series"
      ]
     },
     "execution_count": 6,
     "metadata": {},
     "output_type": "execute_result"
    }
   ],
   "source": [
    "# Verificando que uma linha do dataframe é uma série no Pandas\n",
    "type(linha)"
   ]
  },
  {
   "cell_type": "code",
   "execution_count": 7,
   "id": "8a72fde9",
   "metadata": {},
   "outputs": [
    {
     "data": {
      "text/plain": [
       "0    9\n",
       "1    2\n",
       "2    7\n",
       "Name: 0, dtype: int64"
      ]
     },
     "execution_count": 7,
     "metadata": {},
     "output_type": "execute_result"
    }
   ],
   "source": [
    "# Extrai a coluna de índice 0\n",
    "coluna = df[0]\n",
    "\n",
    "coluna"
   ]
  },
  {
   "cell_type": "markdown",
   "id": "8d18a3eb",
   "metadata": {},
   "source": [
    "#### Uma coluna do dataframe é uma série no Pandas"
   ]
  },
  {
   "cell_type": "code",
   "execution_count": 8,
   "id": "6673f6ad",
   "metadata": {},
   "outputs": [
    {
     "data": {
      "text/plain": [
       "pandas.core.series.Series"
      ]
     },
     "execution_count": 8,
     "metadata": {},
     "output_type": "execute_result"
    }
   ],
   "source": [
    "# Verificando que uma coluna do dataframe é uma série no Pandas\n",
    "type(coluna)"
   ]
  },
  {
   "cell_type": "markdown",
   "id": "a4cd9f57",
   "metadata": {},
   "source": [
    "### Criando uma Série"
   ]
  },
  {
   "cell_type": "code",
   "execution_count": 9,
   "id": "a4382333",
   "metadata": {},
   "outputs": [],
   "source": [
    "# Cria uma série\n",
    "serie_pandas = pd.Series(['a', 'b', 'c', 'd', 'e'])"
   ]
  },
  {
   "cell_type": "code",
   "execution_count": 10,
   "id": "350c9292",
   "metadata": {},
   "outputs": [
    {
     "data": {
      "text/plain": [
       "0    a\n",
       "1    b\n",
       "2    c\n",
       "3    d\n",
       "4    e\n",
       "dtype: object"
      ]
     },
     "execution_count": 10,
     "metadata": {},
     "output_type": "execute_result"
    }
   ],
   "source": [
    "# Visualizando a série\n",
    "serie_pandas"
   ]
  },
  {
   "cell_type": "code",
   "execution_count": 11,
   "id": "d228a16f",
   "metadata": {},
   "outputs": [
    {
     "data": {
      "text/plain": [
       "RangeIndex(start=0, stop=5, step=1)"
      ]
     },
     "execution_count": 11,
     "metadata": {},
     "output_type": "execute_result"
    }
   ],
   "source": [
    "# Visualiza os índices\n",
    "serie_pandas.index"
   ]
  },
  {
   "cell_type": "code",
   "execution_count": 12,
   "id": "f9b05e15",
   "metadata": {},
   "outputs": [
    {
     "data": {
      "text/plain": [
       "array(['a', 'b', 'c', 'd', 'e'], dtype=object)"
      ]
     },
     "execution_count": 12,
     "metadata": {},
     "output_type": "execute_result"
    }
   ],
   "source": [
    "# Visualiza os valores\n",
    "serie_pandas.values"
   ]
  },
  {
   "cell_type": "code",
   "execution_count": 13,
   "id": "b7ea4a54",
   "metadata": {},
   "outputs": [
    {
     "data": {
      "text/plain": [
       "dtype('O')"
      ]
     },
     "execution_count": 13,
     "metadata": {},
     "output_type": "execute_result"
    }
   ],
   "source": [
    "# Visualiza o tipo dos dados  ('O' de object)\n",
    "serie_pandas.dtypes"
   ]
  },
  {
   "cell_type": "code",
   "execution_count": 14,
   "id": "b8a723c6",
   "metadata": {},
   "outputs": [
    {
     "data": {
      "text/plain": [
       "(5,)"
      ]
     },
     "execution_count": 14,
     "metadata": {},
     "output_type": "execute_result"
    }
   ],
   "source": [
    "# Visualiza o shape\n",
    "serie_pandas.shape"
   ]
  },
  {
   "cell_type": "markdown",
   "id": "61ea924a",
   "metadata": {},
   "source": [
    "#### Podemos ter uma série com dados de tipos diferentes?"
   ]
  },
  {
   "cell_type": "code",
   "execution_count": 15,
   "id": "9c9b44f2",
   "metadata": {},
   "outputs": [],
   "source": [
    "# Criando uma série com dados de tipos diferentes e com indexação\n",
    "serie_pandas = pd.Series(['a', 'b', 'c', 10, True], index = [10, 20, 30, 40, 50])"
   ]
  },
  {
   "cell_type": "code",
   "execution_count": 16,
   "id": "6957dfee",
   "metadata": {},
   "outputs": [
    {
     "data": {
      "text/plain": [
       "10       a\n",
       "20       b\n",
       "30       c\n",
       "40      10\n",
       "50    True\n",
       "dtype: object"
      ]
     },
     "execution_count": 16,
     "metadata": {},
     "output_type": "execute_result"
    }
   ],
   "source": [
    "# Visualizando\n",
    "serie_pandas"
   ]
  },
  {
   "cell_type": "code",
   "execution_count": 17,
   "id": "7d20a7c8",
   "metadata": {},
   "outputs": [
    {
     "data": {
      "text/plain": [
       "Index([10, 20, 30, 40, 50], dtype='int64')"
      ]
     },
     "execution_count": 17,
     "metadata": {},
     "output_type": "execute_result"
    }
   ],
   "source": [
    "# Visualiza os índices  (tipo inteiro)\n",
    "serie_pandas.index"
   ]
  },
  {
   "cell_type": "code",
   "execution_count": 18,
   "id": "2f75509c",
   "metadata": {},
   "outputs": [
    {
     "data": {
      "text/plain": [
       "dtype('O')"
      ]
     },
     "execution_count": 18,
     "metadata": {},
     "output_type": "execute_result"
    }
   ],
   "source": [
    "# Visualiza o tipo dos dados  ('O' de object)\n",
    "serie_pandas.dtypes"
   ]
  },
  {
   "cell_type": "code",
   "execution_count": 19,
   "id": "5947e1f8",
   "metadata": {},
   "outputs": [
    {
     "data": {
      "text/plain": [
       "array(['a', 'b', 'c', 10, True], dtype=object)"
      ]
     },
     "execution_count": 19,
     "metadata": {},
     "output_type": "execute_result"
    }
   ],
   "source": [
    "# Visualiza os valores\n",
    "serie_pandas.values"
   ]
  },
  {
   "cell_type": "code",
   "execution_count": 20,
   "id": "36092850",
   "metadata": {},
   "outputs": [
    {
     "data": {
      "text/plain": [
       "10       a\n",
       "20       b\n",
       "30       c\n",
       "40      10\n",
       "50    True\n",
       "dtype: object"
      ]
     },
     "execution_count": 20,
     "metadata": {},
     "output_type": "execute_result"
    }
   ],
   "source": [
    "# Visualizando a Série novamente\n",
    "serie_pandas"
   ]
  },
  {
   "cell_type": "code",
   "execution_count": 21,
   "id": "6f9fdabb",
   "metadata": {},
   "outputs": [],
   "source": [
    "# Criando série novamente sem indexação\n",
    "serie_pandas = pd.Series(['a', 'b', 'c', 10, True])"
   ]
  },
  {
   "cell_type": "code",
   "execution_count": 22,
   "id": "6fd3c08a",
   "metadata": {},
   "outputs": [
    {
     "data": {
      "text/plain": [
       "0       a\n",
       "1       b\n",
       "2       c\n",
       "3      10\n",
       "4    True\n",
       "dtype: object"
      ]
     },
     "execution_count": 22,
     "metadata": {},
     "output_type": "execute_result"
    }
   ],
   "source": [
    "# Visualizando a Série novamente\n",
    "serie_pandas"
   ]
  },
  {
   "cell_type": "code",
   "execution_count": 23,
   "id": "64078d71",
   "metadata": {},
   "outputs": [
    {
     "data": {
      "text/plain": [
       "dtype('O')"
      ]
     },
     "execution_count": 23,
     "metadata": {},
     "output_type": "execute_result"
    }
   ],
   "source": [
    "# Visualiza o tipo dos dados  ('O' de object)\n",
    "serie_pandas.dtypes"
   ]
  },
  {
   "cell_type": "code",
   "execution_count": 24,
   "id": "1418cf0e",
   "metadata": {},
   "outputs": [
    {
     "name": "stdout",
     "output_type": "stream",
     "text": [
      "a\n"
     ]
    }
   ],
   "source": [
    "# Visualizando dados do índice 0\n",
    "print(serie_pandas[0])"
   ]
  },
  {
   "cell_type": "code",
   "execution_count": 25,
   "id": "db21db0f",
   "metadata": {},
   "outputs": [
    {
     "data": {
      "text/plain": [
       "str"
      ]
     },
     "execution_count": 25,
     "metadata": {},
     "output_type": "execute_result"
    }
   ],
   "source": [
    "# Visualiza o tipo dos dados  (string)\n",
    "type(serie_pandas[0])"
   ]
  },
  {
   "cell_type": "code",
   "execution_count": 26,
   "id": "6f0d733b",
   "metadata": {},
   "outputs": [
    {
     "name": "stdout",
     "output_type": "stream",
     "text": [
      "10\n"
     ]
    }
   ],
   "source": [
    "# Visualizando dados do índice 3\n",
    "print(serie_pandas[3])"
   ]
  },
  {
   "cell_type": "code",
   "execution_count": 27,
   "id": "5fd9bf75",
   "metadata": {},
   "outputs": [
    {
     "data": {
      "text/plain": [
       "int"
      ]
     },
     "execution_count": 27,
     "metadata": {},
     "output_type": "execute_result"
    }
   ],
   "source": [
    "# Visualiza o tipo dos dados  (int)\n",
    "type(serie_pandas[3])"
   ]
  },
  {
   "cell_type": "code",
   "execution_count": 28,
   "id": "c1481fae",
   "metadata": {},
   "outputs": [
    {
     "name": "stdout",
     "output_type": "stream",
     "text": [
      "True\n"
     ]
    }
   ],
   "source": [
    "# Visualizando dados do índice 4\n",
    "print(serie_pandas[4])"
   ]
  },
  {
   "cell_type": "code",
   "execution_count": 29,
   "id": "7ab36610",
   "metadata": {},
   "outputs": [
    {
     "data": {
      "text/plain": [
       "bool"
      ]
     },
     "execution_count": 29,
     "metadata": {},
     "output_type": "execute_result"
    }
   ],
   "source": [
    "# Visualiza o tipo dos dados  (bool)\n",
    "type(serie_pandas[4])"
   ]
  },
  {
   "cell_type": "code",
   "execution_count": 30,
   "id": "1d1fb63e",
   "metadata": {},
   "outputs": [
    {
     "data": {
      "text/plain": [
       "11"
      ]
     },
     "execution_count": 30,
     "metadata": {},
     "output_type": "execute_result"
    }
   ],
   "source": [
    "# Realizando operação com dados do índice inteiro\n",
    "resultado = serie_pandas[3] + 1\n",
    "\n",
    "resultado"
   ]
  },
  {
   "cell_type": "code",
   "execution_count": 31,
   "id": "9e30615a",
   "metadata": {},
   "outputs": [
    {
     "ename": "TypeError",
     "evalue": "can only concatenate str (not \"int\") to str",
     "output_type": "error",
     "traceback": [
      "\u001b[0;31m---------------------------------------------------------------------------\u001b[0m",
      "\u001b[0;31mTypeError\u001b[0m                                 Traceback (most recent call last)",
      "\u001b[0;32m/tmp/ipykernel_3776/2455524052.py\u001b[0m in \u001b[0;36m<module>\u001b[0;34m\u001b[0m\n\u001b[1;32m      1\u001b[0m \u001b[0;31m# Por que esta célula gera erro? Porque índice 2 não é inteiro\u001b[0m\u001b[0;34m\u001b[0m\u001b[0;34m\u001b[0m\u001b[0m\n\u001b[0;32m----> 2\u001b[0;31m \u001b[0mresultado\u001b[0m \u001b[0;34m=\u001b[0m \u001b[0mserie_pandas\u001b[0m\u001b[0;34m[\u001b[0m\u001b[0;36m2\u001b[0m\u001b[0;34m]\u001b[0m \u001b[0;34m+\u001b[0m \u001b[0;36m1\u001b[0m\u001b[0;34m\u001b[0m\u001b[0;34m\u001b[0m\u001b[0m\n\u001b[0m",
      "\u001b[0;31mTypeError\u001b[0m: can only concatenate str (not \"int\") to str"
     ]
    }
   ],
   "source": [
    "# Por que esta célula gera erro? Porque índice 2 não é inteiro\n",
    "resultado = serie_pandas[2] + 1"
   ]
  },
  {
   "cell_type": "markdown",
   "id": "463ac3ad",
   "metadata": {},
   "source": [
    "#### Lista"
   ]
  },
  {
   "cell_type": "code",
   "execution_count": 32,
   "id": "2be41ae9",
   "metadata": {},
   "outputs": [
    {
     "name": "stdout",
     "output_type": "stream",
     "text": [
      "['Data', 'Science', 'Academy']\n",
      "<class 'list'>\n"
     ]
    }
   ],
   "source": [
    "# Criando uma lista\n",
    "lista = ['Data', 'Science', 'Academy']\n",
    "\n",
    "print(lista)\n",
    "print(type(lista))"
   ]
  },
  {
   "cell_type": "code",
   "execution_count": 33,
   "id": "6254d2f8",
   "metadata": {},
   "outputs": [
    {
     "name": "stdout",
     "output_type": "stream",
     "text": [
      "0       Data\n",
      "1    Science\n",
      "2    Academy\n",
      "dtype: object\n",
      "<class 'pandas.core.series.Series'>\n"
     ]
    }
   ],
   "source": [
    "# Convertendo a lista em séries\n",
    "serie_pandas = pd.Series(lista)\n",
    "\n",
    "print(serie_pandas)\n",
    "print(type(serie_pandas))"
   ]
  },
  {
   "cell_type": "markdown",
   "id": "082c1942",
   "metadata": {},
   "source": [
    "#### Dicionário"
   ]
  },
  {
   "cell_type": "code",
   "execution_count": 34,
   "id": "2c8a5db8",
   "metadata": {},
   "outputs": [
    {
     "name": "stdout",
     "output_type": "stream",
     "text": [
      "{'a': 'Data', 'b': 'Science', 'c': 'Academy'}\n",
      "<class 'dict'>\n"
     ]
    }
   ],
   "source": [
    "# Criando um dicionário\n",
    "dicionario = {'a': 'Data', 'b': 'Science', 'c': 'Academy'}\n",
    "\n",
    "print(dicionario)\n",
    "print(type(dicionario))"
   ]
  },
  {
   "cell_type": "code",
   "execution_count": 35,
   "id": "a5ac9ca0",
   "metadata": {},
   "outputs": [
    {
     "name": "stdout",
     "output_type": "stream",
     "text": [
      "a       Data\n",
      "b    Science\n",
      "c    Academy\n",
      "dtype: object\n",
      "<class 'pandas.core.series.Series'>\n"
     ]
    }
   ],
   "source": [
    "# Convertendo o dicionário em séries  (ele mantém os índices do dicionário)\n",
    "serie_pandas = pd.Series(dicionario)\n",
    "\n",
    "print(serie_pandas)\n",
    "print(type(serie_pandas))"
   ]
  },
  {
   "cell_type": "markdown",
   "id": "bff85fdd",
   "metadata": {
    "tags": []
   },
   "source": [
    "#### Array Numpy"
   ]
  },
  {
   "cell_type": "code",
   "execution_count": 36,
   "id": "08591e34",
   "metadata": {},
   "outputs": [
    {
     "name": "stdout",
     "output_type": "stream",
     "text": [
      "[6 9 2 6 3]\n",
      "<class 'numpy.ndarray'>\n"
     ]
    }
   ],
   "source": [
    "# Cria um array Numpy\n",
    "arr = np.random.randint(0, 10, size = 5)\n",
    "\n",
    "print(arr)\n",
    "print(type(arr))"
   ]
  },
  {
   "cell_type": "code",
   "execution_count": 37,
   "id": "0bb6af88",
   "metadata": {},
   "outputs": [
    {
     "name": "stdout",
     "output_type": "stream",
     "text": [
      "0    6\n",
      "1    9\n",
      "2    2\n",
      "3    6\n",
      "4    3\n",
      "dtype: int64\n",
      "<class 'pandas.core.series.Series'>\n"
     ]
    }
   ],
   "source": [
    "# Convertendo o array Numpy em séries\n",
    "serie_pandas = pd.Series(arr)\n",
    "\n",
    "print(serie_pandas)\n",
    "print(type(serie_pandas))"
   ]
  },
  {
   "cell_type": "markdown",
   "id": "65ca05b3",
   "metadata": {},
   "source": [
    "### Outros Exemplos com Séries"
   ]
  },
  {
   "cell_type": "markdown",
   "id": "b97d298b-7bd1-4df1-9513-dadf01141159",
   "metadata": {},
   "source": [
    "#### Exemplo 1"
   ]
  },
  {
   "cell_type": "code",
   "execution_count": 38,
   "id": "5e1b9fff",
   "metadata": {},
   "outputs": [],
   "source": [
    "# Criando Uma Série\n",
    "serie_pandas = pd.Series({1: 'data', 2: 'science'})"
   ]
  },
  {
   "cell_type": "code",
   "execution_count": 39,
   "id": "3e5051a1-bb3d-4d2b-a503-44adc60f8e95",
   "metadata": {},
   "outputs": [
    {
     "data": {
      "text/plain": [
       "1       data\n",
       "2    science\n",
       "dtype: object"
      ]
     },
     "execution_count": 39,
     "metadata": {},
     "output_type": "execute_result"
    }
   ],
   "source": [
    "serie_pandas"
   ]
  },
  {
   "cell_type": "code",
   "execution_count": 40,
   "id": "fc80ed3b-50ac-4cfe-ae38-cfcaf6dbb45c",
   "metadata": {},
   "outputs": [
    {
     "name": "stdout",
     "output_type": "stream",
     "text": [
      "data\n"
     ]
    }
   ],
   "source": [
    "# Visualizando dados do índice 1\n",
    "print(serie_pandas[1])"
   ]
  },
  {
   "cell_type": "code",
   "execution_count": 42,
   "id": "164ffbfb-a45a-4b96-9aa7-0123c83c610f",
   "metadata": {},
   "outputs": [],
   "source": [
    "# Visualizando dados do índice 0 (não existe, resulta em erro)\n",
    "# print(serie_pandas[0])"
   ]
  },
  {
   "cell_type": "markdown",
   "id": "e1978eff-4f7f-4e56-82ea-071ec1cdef87",
   "metadata": {},
   "source": [
    "#### Exemplo 2"
   ]
  },
  {
   "cell_type": "code",
   "execution_count": 43,
   "id": "8bf8f9b7-01e7-4e94-9c60-17a8d43a4574",
   "metadata": {},
   "outputs": [],
   "source": [
    "# Criando Uma Série com numéros (o type será inteiro)\n",
    "serie_pandas = pd.Series([1, 2, 3, 4, 5])"
   ]
  },
  {
   "cell_type": "code",
   "execution_count": 44,
   "id": "f4aca592-074c-4cd7-83ed-38e084c8c742",
   "metadata": {},
   "outputs": [
    {
     "data": {
      "text/plain": [
       "0    1\n",
       "1    2\n",
       "2    3\n",
       "3    4\n",
       "4    5\n",
       "dtype: int64"
      ]
     },
     "execution_count": 44,
     "metadata": {},
     "output_type": "execute_result"
    }
   ],
   "source": [
    "serie_pandas"
   ]
  },
  {
   "cell_type": "code",
   "execution_count": 45,
   "id": "699b92d9-0a4e-4ba7-aaa4-9f992676faf0",
   "metadata": {},
   "outputs": [],
   "source": [
    "# Criando Uma Série com numéros (informando o type float)\n",
    "serie_pandas = pd.Series([1, 2, 3, 4, 5], dtype = 'float')"
   ]
  },
  {
   "cell_type": "code",
   "execution_count": 46,
   "id": "e84ad654-423f-4b7d-9c84-a1bb953e151d",
   "metadata": {},
   "outputs": [
    {
     "data": {
      "text/plain": [
       "0    1.0\n",
       "1    2.0\n",
       "2    3.0\n",
       "3    4.0\n",
       "4    5.0\n",
       "dtype: float64"
      ]
     },
     "execution_count": 46,
     "metadata": {},
     "output_type": "execute_result"
    }
   ],
   "source": [
    "serie_pandas"
   ]
  },
  {
   "cell_type": "markdown",
   "id": "e71e2d2c-12e1-40eb-a13c-2f2f183aaeeb",
   "metadata": {},
   "source": [
    "#### Exemplo 3"
   ]
  },
  {
   "cell_type": "code",
   "execution_count": 70,
   "id": "4e04e286-57ef-41e9-9902-71fa5f6b8824",
   "metadata": {
    "tags": []
   },
   "outputs": [],
   "source": [
    "# Criando Uma Série com Palavras \n",
    "serie_pandas = pd.Series(['Azul', 'Amarelo', 'Azul', 'Branco', 'Branco', 'Verde', 'Azul'])"
   ]
  },
  {
   "cell_type": "code",
   "execution_count": 71,
   "id": "4183306b-c556-455d-b768-42a17c0230f6",
   "metadata": {},
   "outputs": [
    {
     "data": {
      "text/plain": [
       "0       Azul\n",
       "1    Amarelo\n",
       "2       Azul\n",
       "3     Branco\n",
       "4     Branco\n",
       "5      Verde\n",
       "6       Azul\n",
       "dtype: object"
      ]
     },
     "execution_count": 71,
     "metadata": {},
     "output_type": "execute_result"
    }
   ],
   "source": [
    "serie_pandas"
   ]
  },
  {
   "cell_type": "code",
   "execution_count": 72,
   "id": "f2d5fd27-54c8-4538-a873-5125c842ae33",
   "metadata": {
    "tags": []
   },
   "outputs": [
    {
     "name": "stdout",
     "output_type": "stream",
     "text": [
      "['Azul' 'Amarelo' 'Branco' 'Verde']\n"
     ]
    }
   ],
   "source": [
    "# Visualizando valores únicos\n",
    "print(serie_pandas.unique())"
   ]
  },
  {
   "cell_type": "code",
   "execution_count": 73,
   "id": "d01653cc-6f8f-4fd0-a3bd-97cdce0555b7",
   "metadata": {},
   "outputs": [
    {
     "name": "stdout",
     "output_type": "stream",
     "text": [
      "4\n"
     ]
    }
   ],
   "source": [
    "# Visualizando a quantidade de valores únicos\n",
    "print(serie_pandas.nunique())"
   ]
  },
  {
   "cell_type": "code",
   "execution_count": 74,
   "id": "26cdfcbf-6d7b-45d3-bee3-d993879ecb51",
   "metadata": {},
   "outputs": [
    {
     "name": "stdout",
     "output_type": "stream",
     "text": [
      "Azul       3\n",
      "Branco     2\n",
      "Amarelo    1\n",
      "Verde      1\n",
      "Name: count, dtype: int64\n"
     ]
    }
   ],
   "source": [
    "# Visualizando a quantidade de valores únicos de cada item\n",
    "print(serie_pandas.value_counts())"
   ]
  },
  {
   "cell_type": "markdown",
   "id": "8f72e065-038a-445e-b274-2b0545ea4a46",
   "metadata": {},
   "source": [
    "#### Exemplo 4"
   ]
  },
  {
   "cell_type": "code",
   "execution_count": 75,
   "id": "038fd1e6-773f-483a-b347-ea1252cb5316",
   "metadata": {},
   "outputs": [],
   "source": [
    "# Criando Uma Série com valores numéricos\n",
    "serie_pandas = pd.Series([201, 323, 17, 97, 43, 9, 26, 4])"
   ]
  },
  {
   "cell_type": "code",
   "execution_count": 76,
   "id": "ed887e26-a237-48c9-bb65-89419c6ca1f5",
   "metadata": {},
   "outputs": [
    {
     "data": {
      "text/plain": [
       "0    201\n",
       "1    323\n",
       "2     17\n",
       "3     97\n",
       "4     43\n",
       "5      9\n",
       "6     26\n",
       "7      4\n",
       "dtype: int64"
      ]
     },
     "execution_count": 76,
     "metadata": {},
     "output_type": "execute_result"
    }
   ],
   "source": [
    "serie_pandas"
   ]
  },
  {
   "cell_type": "code",
   "execution_count": 77,
   "id": "7bc3fead-f49a-41f1-8637-3bdea00d29cf",
   "metadata": {},
   "outputs": [
    {
     "name": "stdout",
     "output_type": "stream",
     "text": [
      "1    323\n",
      "0    201\n",
      "3     97\n",
      "dtype: int64\n"
     ]
    }
   ],
   "source": [
    "# Visualizando os 3 maiores números da série (em ordem)\n",
    "print(serie_pandas.nlargest(n = 3))"
   ]
  },
  {
   "cell_type": "code",
   "execution_count": 78,
   "id": "7e8be9bb-142e-49a8-b46d-9ec1c7dcd2eb",
   "metadata": {},
   "outputs": [
    {
     "name": "stdout",
     "output_type": "stream",
     "text": [
      "7     4\n",
      "5     9\n",
      "2    17\n",
      "dtype: int64\n"
     ]
    }
   ],
   "source": [
    "# Visualizando os 3 menores números da série (em ordem)\n",
    "print(serie_pandas.nsmallest(n = 3))"
   ]
  },
  {
   "cell_type": "markdown",
   "id": "37984264-ab41-4743-919e-851a4b0881ca",
   "metadata": {},
   "source": [
    "#### Exemplo 5"
   ]
  },
  {
   "cell_type": "code",
   "execution_count": 79,
   "id": "5dadcdfa-f787-4251-b88d-506e340812da",
   "metadata": {},
   "outputs": [],
   "source": [
    "# Criando Uma Série com valores numéricos e valores NaN\n",
    "serie_pandas = pd.Series([1, 2, 3, np.nan, np.nan])"
   ]
  },
  {
   "cell_type": "code",
   "execution_count": 80,
   "id": "c3b37b89-854b-422b-8927-4171ec833f3b",
   "metadata": {},
   "outputs": [
    {
     "data": {
      "text/plain": [
       "0    1.0\n",
       "1    2.0\n",
       "2    3.0\n",
       "3    NaN\n",
       "4    NaN\n",
       "dtype: float64"
      ]
     },
     "execution_count": 80,
     "metadata": {},
     "output_type": "execute_result"
    }
   ],
   "source": [
    "serie_pandas"
   ]
  },
  {
   "cell_type": "code",
   "execution_count": 81,
   "id": "cc0c536d-60d7-4c7f-9ea6-6f9851292603",
   "metadata": {},
   "outputs": [
    {
     "name": "stdout",
     "output_type": "stream",
     "text": [
      "0    False\n",
      "1    False\n",
      "2    False\n",
      "3     True\n",
      "4     True\n",
      "dtype: bool\n"
     ]
    }
   ],
   "source": [
    "# Verificando quais índices possuem valores NaN\n",
    "print(serie_pandas.isna())"
   ]
  },
  {
   "cell_type": "code",
   "execution_count": 82,
   "id": "825323f6-efc1-4ff0-9222-c76761ab62ef",
   "metadata": {},
   "outputs": [
    {
     "name": "stdout",
     "output_type": "stream",
     "text": [
      "2\n"
     ]
    }
   ],
   "source": [
    "# Verificando quantidade de índices que possuem valores NaN\n",
    "print(serie_pandas.isna().sum())"
   ]
  },
  {
   "cell_type": "code",
   "execution_count": 83,
   "id": "6a68a6ad-dc86-4bd7-b2d6-4e771e16f1f6",
   "metadata": {},
   "outputs": [
    {
     "name": "stdout",
     "output_type": "stream",
     "text": [
      "3\n"
     ]
    }
   ],
   "source": [
    "# Verificando quantidade de índices que NÃO possuem valores NaN\n",
    "print(serie_pandas.count())"
   ]
  },
  {
   "cell_type": "markdown",
   "id": "43d95946-51a4-40e4-857e-9afd231c0012",
   "metadata": {},
   "source": [
    "#### Exemplo 5"
   ]
  },
  {
   "cell_type": "code",
   "execution_count": 88,
   "id": "86c23559-c371-4f4c-b50c-b383efbd0786",
   "metadata": {},
   "outputs": [],
   "source": [
    "# Criando Uma Série com valores numéricos\n",
    "serie_pandas = pd.Series([1, 2, 3, 4])"
   ]
  },
  {
   "cell_type": "code",
   "execution_count": 89,
   "id": "a9f5bfd2-b809-47a1-8c67-7daaef05d51e",
   "metadata": {},
   "outputs": [
    {
     "data": {
      "text/plain": [
       "0    1\n",
       "1    2\n",
       "2    3\n",
       "3    4\n",
       "dtype: int64"
      ]
     },
     "execution_count": 89,
     "metadata": {},
     "output_type": "execute_result"
    }
   ],
   "source": [
    "serie_pandas"
   ]
  },
  {
   "cell_type": "code",
   "execution_count": 90,
   "id": "2afbd7f5-6eec-4458-8949-9af9db5d836a",
   "metadata": {},
   "outputs": [
    {
     "name": "stdout",
     "output_type": "stream",
     "text": [
      "0    False\n",
      "1    False\n",
      "2     True\n",
      "3    False\n",
      "dtype: bool\n"
     ]
    }
   ],
   "source": [
    "# Visualizando índices que tem valores igual a 3\n",
    "print(serie_pandas.eq(3))"
   ]
  },
  {
   "cell_type": "code",
   "execution_count": 91,
   "id": "4ef1db3a-0db3-4993-889e-4edbdb24d4f1",
   "metadata": {},
   "outputs": [
    {
     "name": "stdout",
     "output_type": "stream",
     "text": [
      "0    False\n",
      "1     True\n",
      "2    False\n",
      "3    False\n",
      "dtype: bool\n"
     ]
    }
   ],
   "source": [
    "# Visualizando índices que tem valores igual a 2\n",
    "print(serie_pandas.eq(2))"
   ]
  },
  {
   "cell_type": "code",
   "execution_count": 92,
   "id": "b1f7f0f0-89a2-4489-a067-096f3e5874ac",
   "metadata": {},
   "outputs": [
    {
     "name": "stdout",
     "output_type": "stream",
     "text": [
      "0    False\n",
      "1    False\n",
      "2     True\n",
      "3     True\n",
      "dtype: bool\n"
     ]
    }
   ],
   "source": [
    "# Visualizando índices que tem valores maior que 2\n",
    "print(serie_pandas.gt(2))"
   ]
  },
  {
   "cell_type": "markdown",
   "id": "eb6e749d-c30e-47b6-84da-f43e325467c4",
   "metadata": {},
   "source": [
    "#### Exemplo 6"
   ]
  },
  {
   "cell_type": "code",
   "execution_count": 93,
   "id": "a1e36146-1c9b-475f-9674-db90244ce691",
   "metadata": {},
   "outputs": [],
   "source": [
    "# Criando Uma Série com valores numéricos\n",
    "serie_pandas = pd.Series([56, 34, 68, 21, 49])"
   ]
  },
  {
   "cell_type": "code",
   "execution_count": 94,
   "id": "658071d2-ad82-47eb-959d-b7ab484a0a4c",
   "metadata": {},
   "outputs": [
    {
     "name": "stdout",
     "output_type": "stream",
     "text": [
      "45.6\n"
     ]
    }
   ],
   "source": [
    "# Visualizando a Média dos valores somados\n",
    "print(serie_pandas.mean())"
   ]
  },
  {
   "cell_type": "code",
   "execution_count": 95,
   "id": "26255441-8520-4cf6-8dd1-363e30d80384",
   "metadata": {},
   "outputs": [
    {
     "name": "stdout",
     "output_type": "stream",
     "text": [
      "mean       45.6\n",
      "median     49.0\n",
      "sum       228.0\n",
      "count       5.0\n",
      "dtype: float64\n"
     ]
    }
   ],
   "source": [
    "# # Visualizando a Média, Mediana, Soma e Contagem dos valores somados\n",
    "print(serie_pandas.agg(['mean', 'median', 'sum', 'count']))"
   ]
  },
  {
   "cell_type": "markdown",
   "id": "b9f38259-2842-4fd0-b3ad-b7f8e4ae0de1",
   "metadata": {},
   "source": [
    "## Fim"
   ]
  }
 ],
 "metadata": {
  "kernelspec": {
   "display_name": "Python 3 (ipykernel)",
   "language": "python",
   "name": "python3"
  },
  "language_info": {
   "codemirror_mode": {
    "name": "ipython",
    "version": 3
   },
   "file_extension": ".py",
   "mimetype": "text/x-python",
   "name": "python",
   "nbconvert_exporter": "python",
   "pygments_lexer": "ipython3",
   "version": "3.9.7"
  }
 },
 "nbformat": 4,
 "nbformat_minor": 5
}
